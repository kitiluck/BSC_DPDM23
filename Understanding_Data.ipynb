{
  "nbformat": 4,
  "nbformat_minor": 0,
  "metadata": {
    "colab": {
      "provenance": [],
      "mount_file_id": "https://github.com/kitiluck/BSC_DPDM23/blob/main/Understanding_Data.ipynb",
      "authorship_tag": "ABX9TyPwQ9LYQvMoHaVwoRxw44+2",
      "include_colab_link": true
    },
    "kernelspec": {
      "name": "python3",
      "display_name": "Python 3"
    },
    "language_info": {
      "name": "python"
    }
  },
  "cells": [
    {
      "cell_type": "markdown",
      "metadata": {
        "id": "view-in-github",
        "colab_type": "text"
      },
      "source": [
        "<a href=\"https://colab.research.google.com/github/kitiluck/BSC_DPDM23/blob/main/Understanding_Data.ipynb\" target=\"_parent\"><img src=\"https://colab.research.google.com/assets/colab-badge.svg\" alt=\"Open In Colab\"/></a>"
      ]
    },
    {
      "cell_type": "markdown",
      "source": [
        "# Load data"
      ],
      "metadata": {
        "id": "2lVYUgviBhXA"
      }
    },
    {
      "cell_type": "code",
      "source": [
        "import pandas as pd"
      ],
      "metadata": {
        "id": "oTJreHKEEiga"
      },
      "execution_count": 1,
      "outputs": []
    },
    {
      "cell_type": "markdown",
      "source": [
        "#Load Excel from Ddrive"
      ],
      "metadata": {
        "id": "GNt02x15EXab"
      }
    },
    {
      "cell_type": "code",
      "source": [
        "from google.colab import drive\n",
        "drive.mount('/content/drive')"
      ],
      "metadata": {
        "colab": {
          "base_uri": "https://localhost:8080/",
          "height": 0
        },
        "id": "XWgGfB8_E1SC",
        "outputId": "a2025ca0-c929-4951-8ba2-62e9fb9b3e12"
      },
      "execution_count": 2,
      "outputs": [
        {
          "output_type": "stream",
          "name": "stdout",
          "text": [
            "Mounted at /content/drive\n"
          ]
        }
      ]
    },
    {
      "cell_type": "code",
      "source": [
        "data_from_gdrive = pd.read_excel('/content/drive/MyDrive/BSC_DPDM2023/2563.xls',header = 2)"
      ],
      "metadata": {
        "id": "DaDe6uA6FNIl"
      },
      "execution_count": 3,
      "outputs": []
    },
    {
      "cell_type": "code",
      "source": [
        "data_from_gdrive"
      ],
      "metadata": {
        "colab": {
          "base_uri": "https://localhost:8080/",
          "height": 1103
        },
        "id": "ct-ZWg9WFe3y",
        "outputId": "c0fbc98f-91ec-40ab-ad7f-27c2d7a4bc12"
      },
      "execution_count": 4,
      "outputs": [
        {
          "output_type": "execute_result",
          "data": {
            "text/plain": [
              "    เลขที่คำขอ เลขที่บัตรส่งเสริม                        ชื่อบริษัทภาษาไทย  \\\n",
              "0       610707   62-0422-1-04-1-0  กรุงเทพ ไดอ์แคสซ์ติ้ง แอนด์ อินแจ๊กชั่น   \n",
              "1       620660   63-0107-1-00-1-0                        เจ้าพระยา คาร์บอน   \n",
              "2       610182   63-0101-1-00-1-0                        อาร์ต ออฟ เบคกิ้ง   \n",
              "3       620318   63-0080-1-00-0-0       เอ็นจีเค สปาร์คปลั๊กส์ (ประเทศไทย)   \n",
              "4       620185   63-0079-1-00-0-0       เอ็นจีเค สปาร์คปลั๊กส์ (ประเทศไทย)   \n",
              "..         ...                ...                                      ...   \n",
              "655    E630369   63-0669-1-00-0-0  อีเลคโทรลักซ์ โปรเฟสชั่นแนล (ประเทศไทย)   \n",
              "656    E630401   63-0682-1-00-1-0                            โกลว์ พลังงาน   \n",
              "657    E630277   63-0666-1-03-1-0         ยูนิค อุตสาหกรรมพลาสติก (แม่สอด)   \n",
              "658     610552   63-0676-1-00-1-0                   ไอชิน เอไอ (ประเทศไทย)   \n",
              "659    E630269   63-0668-1-00-1-0     เอ็มเอ็มซี อีเล็คโทรนิคส์ (ไทยแลนด์)   \n",
              "\n",
              "                                     สถานที่ตั้งโรงงาน  เบอร์โทรศัพท์  \\\n",
              "0    46/1,46/2 หมู่ที่ 12 ถนนบางพลี-บางนาตราด ต.บาง...  02-3373078-84   \n",
              "1            ต.เขาล้าน อ.ทับสะแก ประจวบคีรีขันธ์ 77130    081-8412110   \n",
              "2    111/21 หมู่ที่ 2 ต.ท่าจีน อ.เมือง สมุทรสาคร 74000     034-440157   \n",
              "3     700/864 หมู่ที่ 1 ต.พานทอง อ.พานทอง ชลบุรี 20160            NaN   \n",
              "4     700/864 หมู่ที่ 1 ต.พานทอง อ.พานทอง ชลบุรี 20160            NaN   \n",
              "..                                                 ...            ...   \n",
              "655  222 หมู่ที่ 11 ต.หนองละลอก อ.บ้านค่าย ระยอง 21120            NaN   \n",
              "656              60/5 ต.มาบยางพร อ.ปลวกแดง ระยอง 21140            NaN   \n",
              "657     269/11 หมู่ที่ 15 ต.แม่กาษา อ.แม่สอด ตาก 63110    064-9510202   \n",
              "658  80 หมู่ที่ 5 ถนนบางนา-ตราด ต.บางสมัคร อ.บางปะก...     038-570062   \n",
              "659  129/2 หมู่ที่ 17 ถนนเทพรัตน ต.บางเสาธง อ.บางเส...   02-3152273-4   \n",
              "\n",
              "       เบอร์โทรสาร          จังหวัด ประเภทกิจการ  \\\n",
              "0    02-3373589-90      สมุทรปราการ        [6.6]   \n",
              "1              NaN  ประจวบคีรีขันธ์       [1.15]   \n",
              "2              NaN        สมุทรสาคร       [1.17]   \n",
              "3              NaN           ชลบุรี     [4.8.17]   \n",
              "4              NaN           ชลบุรี     [4.8.17]   \n",
              "..             ...              ...          ...   \n",
              "655            NaN            ระยอง       [7.34]   \n",
              "656            NaN            ระยอง    [7.1.1.2]   \n",
              "657            NaN              ตาก       [6.16]   \n",
              "658     038-570067       ฉะเชิงเทรา    [4.8.6.6]   \n",
              "659            NaN      สมุทรปราการ    [5.4.3.2]   \n",
              "\n",
              "                            ชื่อผลิตภัณฑ์  อุตสาหการ  ...  สาขาการตลาด  \\\n",
              "0            Plastic Parts for Automotive          0  ...            0   \n",
              "1                        Activated Carbon          0  ...            1   \n",
              "2           Frozen Pizza Disc/Pizza Dough          1  ...            0   \n",
              "3                      Temperature Sensor          0  ...            0   \n",
              "4                           Oxygen Sensor          2  ...            0   \n",
              "..                                    ...        ...  ...          ...   \n",
              "655   International Business Center : IBC          6  ...            0   \n",
              "656  Electricity Power from Solar Rooftop          0  ...            0   \n",
              "657                           Plastic Bag          0  ...            0   \n",
              "658                           Drive Shaft          0  ...            0   \n",
              "659                     Multiband Antenna          0  ...            0   \n",
              "\n",
              "     สาขาการจัดการ  สาขาเลขานุการ  สาขาคอมพิวเตอร์ธุรกิจ  \\\n",
              "0                0              0                      0   \n",
              "1                1              0                      0   \n",
              "2                0              0                      0   \n",
              "3                0              0                      0   \n",
              "4                0              0                      0   \n",
              "..             ...            ...                    ...   \n",
              "655              0              0                      0   \n",
              "656              0              0                      0   \n",
              "657              0              0                      0   \n",
              "658              0              0                      0   \n",
              "659              0              0                      0   \n",
              "\n",
              "     สาขาการเงินการธนาคาร  สาขาพัฒนาชุมชน-การสหกรณ์  พาณิชยการ  \\\n",
              "0                       0                         0          0   \n",
              "1                       0                         0          0   \n",
              "2                       0                         2          3   \n",
              "3                       0                         0          0   \n",
              "4                       0                         0          0   \n",
              "..                    ...                       ...        ...   \n",
              "655                     0                         0          0   \n",
              "656                     0                         0          0   \n",
              "657                     0                         0          0   \n",
              "658                     0                         0          0   \n",
              "659                     0                         0          0   \n",
              "\n",
              "     สาขาอุตสาหกรรมการท่องเที่ยว  สาขาศิลปศาสตร์  อาชีวศึกษาบริหารธุรกิจ อื่นๆ  \n",
              "0                              0               0                             0  \n",
              "1                              0               0                             0  \n",
              "2                              0               0                             0  \n",
              "3                              0               0                             0  \n",
              "4                              0               0                             0  \n",
              "..                           ...             ...                           ...  \n",
              "655                            0               0                             0  \n",
              "656                            0               0                             0  \n",
              "657                            0               0                             0  \n",
              "658                            0               0                             0  \n",
              "659                            0               0                             0  \n",
              "\n",
              "[660 rows x 165 columns]"
            ],
            "text/html": [
              "\n",
              "  <div id=\"df-d3a9f9fb-5a9b-485d-93c0-222808f935e7\" class=\"colab-df-container\">\n",
              "    <div>\n",
              "<style scoped>\n",
              "    .dataframe tbody tr th:only-of-type {\n",
              "        vertical-align: middle;\n",
              "    }\n",
              "\n",
              "    .dataframe tbody tr th {\n",
              "        vertical-align: top;\n",
              "    }\n",
              "\n",
              "    .dataframe thead th {\n",
              "        text-align: right;\n",
              "    }\n",
              "</style>\n",
              "<table border=\"1\" class=\"dataframe\">\n",
              "  <thead>\n",
              "    <tr style=\"text-align: right;\">\n",
              "      <th></th>\n",
              "      <th>เลขที่คำขอ</th>\n",
              "      <th>เลขที่บัตรส่งเสริม</th>\n",
              "      <th>ชื่อบริษัทภาษาไทย</th>\n",
              "      <th>สถานที่ตั้งโรงงาน</th>\n",
              "      <th>เบอร์โทรศัพท์</th>\n",
              "      <th>เบอร์โทรสาร</th>\n",
              "      <th>จังหวัด</th>\n",
              "      <th>ประเภทกิจการ</th>\n",
              "      <th>ชื่อผลิตภัณฑ์</th>\n",
              "      <th>อุตสาหการ</th>\n",
              "      <th>...</th>\n",
              "      <th>สาขาการตลาด</th>\n",
              "      <th>สาขาการจัดการ</th>\n",
              "      <th>สาขาเลขานุการ</th>\n",
              "      <th>สาขาคอมพิวเตอร์ธุรกิจ</th>\n",
              "      <th>สาขาการเงินการธนาคาร</th>\n",
              "      <th>สาขาพัฒนาชุมชน-การสหกรณ์</th>\n",
              "      <th>พาณิชยการ</th>\n",
              "      <th>สาขาอุตสาหกรรมการท่องเที่ยว</th>\n",
              "      <th>สาขาศิลปศาสตร์</th>\n",
              "      <th>อาชีวศึกษาบริหารธุรกิจ อื่นๆ</th>\n",
              "    </tr>\n",
              "  </thead>\n",
              "  <tbody>\n",
              "    <tr>\n",
              "      <th>0</th>\n",
              "      <td>610707</td>\n",
              "      <td>62-0422-1-04-1-0</td>\n",
              "      <td>กรุงเทพ ไดอ์แคสซ์ติ้ง แอนด์ อินแจ๊กชั่น</td>\n",
              "      <td>46/1,46/2 หมู่ที่ 12 ถนนบางพลี-บางนาตราด ต.บาง...</td>\n",
              "      <td>02-3373078-84</td>\n",
              "      <td>02-3373589-90</td>\n",
              "      <td>สมุทรปราการ</td>\n",
              "      <td>[6.6]</td>\n",
              "      <td>Plastic Parts for Automotive</td>\n",
              "      <td>0</td>\n",
              "      <td>...</td>\n",
              "      <td>0</td>\n",
              "      <td>0</td>\n",
              "      <td>0</td>\n",
              "      <td>0</td>\n",
              "      <td>0</td>\n",
              "      <td>0</td>\n",
              "      <td>0</td>\n",
              "      <td>0</td>\n",
              "      <td>0</td>\n",
              "      <td>0</td>\n",
              "    </tr>\n",
              "    <tr>\n",
              "      <th>1</th>\n",
              "      <td>620660</td>\n",
              "      <td>63-0107-1-00-1-0</td>\n",
              "      <td>เจ้าพระยา คาร์บอน</td>\n",
              "      <td>ต.เขาล้าน อ.ทับสะแก ประจวบคีรีขันธ์ 77130</td>\n",
              "      <td>081-8412110</td>\n",
              "      <td>NaN</td>\n",
              "      <td>ประจวบคีรีขันธ์</td>\n",
              "      <td>[1.15]</td>\n",
              "      <td>Activated Carbon</td>\n",
              "      <td>0</td>\n",
              "      <td>...</td>\n",
              "      <td>1</td>\n",
              "      <td>1</td>\n",
              "      <td>0</td>\n",
              "      <td>0</td>\n",
              "      <td>0</td>\n",
              "      <td>0</td>\n",
              "      <td>0</td>\n",
              "      <td>0</td>\n",
              "      <td>0</td>\n",
              "      <td>0</td>\n",
              "    </tr>\n",
              "    <tr>\n",
              "      <th>2</th>\n",
              "      <td>610182</td>\n",
              "      <td>63-0101-1-00-1-0</td>\n",
              "      <td>อาร์ต ออฟ เบคกิ้ง</td>\n",
              "      <td>111/21 หมู่ที่ 2 ต.ท่าจีน อ.เมือง สมุทรสาคร 74000</td>\n",
              "      <td>034-440157</td>\n",
              "      <td>NaN</td>\n",
              "      <td>สมุทรสาคร</td>\n",
              "      <td>[1.17]</td>\n",
              "      <td>Frozen Pizza Disc/Pizza Dough</td>\n",
              "      <td>1</td>\n",
              "      <td>...</td>\n",
              "      <td>0</td>\n",
              "      <td>0</td>\n",
              "      <td>0</td>\n",
              "      <td>0</td>\n",
              "      <td>0</td>\n",
              "      <td>2</td>\n",
              "      <td>3</td>\n",
              "      <td>0</td>\n",
              "      <td>0</td>\n",
              "      <td>0</td>\n",
              "    </tr>\n",
              "    <tr>\n",
              "      <th>3</th>\n",
              "      <td>620318</td>\n",
              "      <td>63-0080-1-00-0-0</td>\n",
              "      <td>เอ็นจีเค สปาร์คปลั๊กส์ (ประเทศไทย)</td>\n",
              "      <td>700/864 หมู่ที่ 1 ต.พานทอง อ.พานทอง ชลบุรี 20160</td>\n",
              "      <td>NaN</td>\n",
              "      <td>NaN</td>\n",
              "      <td>ชลบุรี</td>\n",
              "      <td>[4.8.17]</td>\n",
              "      <td>Temperature Sensor</td>\n",
              "      <td>0</td>\n",
              "      <td>...</td>\n",
              "      <td>0</td>\n",
              "      <td>0</td>\n",
              "      <td>0</td>\n",
              "      <td>0</td>\n",
              "      <td>0</td>\n",
              "      <td>0</td>\n",
              "      <td>0</td>\n",
              "      <td>0</td>\n",
              "      <td>0</td>\n",
              "      <td>0</td>\n",
              "    </tr>\n",
              "    <tr>\n",
              "      <th>4</th>\n",
              "      <td>620185</td>\n",
              "      <td>63-0079-1-00-0-0</td>\n",
              "      <td>เอ็นจีเค สปาร์คปลั๊กส์ (ประเทศไทย)</td>\n",
              "      <td>700/864 หมู่ที่ 1 ต.พานทอง อ.พานทอง ชลบุรี 20160</td>\n",
              "      <td>NaN</td>\n",
              "      <td>NaN</td>\n",
              "      <td>ชลบุรี</td>\n",
              "      <td>[4.8.17]</td>\n",
              "      <td>Oxygen Sensor</td>\n",
              "      <td>2</td>\n",
              "      <td>...</td>\n",
              "      <td>0</td>\n",
              "      <td>0</td>\n",
              "      <td>0</td>\n",
              "      <td>0</td>\n",
              "      <td>0</td>\n",
              "      <td>0</td>\n",
              "      <td>0</td>\n",
              "      <td>0</td>\n",
              "      <td>0</td>\n",
              "      <td>0</td>\n",
              "    </tr>\n",
              "    <tr>\n",
              "      <th>...</th>\n",
              "      <td>...</td>\n",
              "      <td>...</td>\n",
              "      <td>...</td>\n",
              "      <td>...</td>\n",
              "      <td>...</td>\n",
              "      <td>...</td>\n",
              "      <td>...</td>\n",
              "      <td>...</td>\n",
              "      <td>...</td>\n",
              "      <td>...</td>\n",
              "      <td>...</td>\n",
              "      <td>...</td>\n",
              "      <td>...</td>\n",
              "      <td>...</td>\n",
              "      <td>...</td>\n",
              "      <td>...</td>\n",
              "      <td>...</td>\n",
              "      <td>...</td>\n",
              "      <td>...</td>\n",
              "      <td>...</td>\n",
              "      <td>...</td>\n",
              "    </tr>\n",
              "    <tr>\n",
              "      <th>655</th>\n",
              "      <td>E630369</td>\n",
              "      <td>63-0669-1-00-0-0</td>\n",
              "      <td>อีเลคโทรลักซ์ โปรเฟสชั่นแนล (ประเทศไทย)</td>\n",
              "      <td>222 หมู่ที่ 11 ต.หนองละลอก อ.บ้านค่าย ระยอง 21120</td>\n",
              "      <td>NaN</td>\n",
              "      <td>NaN</td>\n",
              "      <td>ระยอง</td>\n",
              "      <td>[7.34]</td>\n",
              "      <td>International Business Center : IBC</td>\n",
              "      <td>6</td>\n",
              "      <td>...</td>\n",
              "      <td>0</td>\n",
              "      <td>0</td>\n",
              "      <td>0</td>\n",
              "      <td>0</td>\n",
              "      <td>0</td>\n",
              "      <td>0</td>\n",
              "      <td>0</td>\n",
              "      <td>0</td>\n",
              "      <td>0</td>\n",
              "      <td>0</td>\n",
              "    </tr>\n",
              "    <tr>\n",
              "      <th>656</th>\n",
              "      <td>E630401</td>\n",
              "      <td>63-0682-1-00-1-0</td>\n",
              "      <td>โกลว์ พลังงาน</td>\n",
              "      <td>60/5 ต.มาบยางพร อ.ปลวกแดง ระยอง 21140</td>\n",
              "      <td>NaN</td>\n",
              "      <td>NaN</td>\n",
              "      <td>ระยอง</td>\n",
              "      <td>[7.1.1.2]</td>\n",
              "      <td>Electricity Power from Solar Rooftop</td>\n",
              "      <td>0</td>\n",
              "      <td>...</td>\n",
              "      <td>0</td>\n",
              "      <td>0</td>\n",
              "      <td>0</td>\n",
              "      <td>0</td>\n",
              "      <td>0</td>\n",
              "      <td>0</td>\n",
              "      <td>0</td>\n",
              "      <td>0</td>\n",
              "      <td>0</td>\n",
              "      <td>0</td>\n",
              "    </tr>\n",
              "    <tr>\n",
              "      <th>657</th>\n",
              "      <td>E630277</td>\n",
              "      <td>63-0666-1-03-1-0</td>\n",
              "      <td>ยูนิค อุตสาหกรรมพลาสติก (แม่สอด)</td>\n",
              "      <td>269/11 หมู่ที่ 15 ต.แม่กาษา อ.แม่สอด ตาก 63110</td>\n",
              "      <td>064-9510202</td>\n",
              "      <td>NaN</td>\n",
              "      <td>ตาก</td>\n",
              "      <td>[6.16]</td>\n",
              "      <td>Plastic Bag</td>\n",
              "      <td>0</td>\n",
              "      <td>...</td>\n",
              "      <td>0</td>\n",
              "      <td>0</td>\n",
              "      <td>0</td>\n",
              "      <td>0</td>\n",
              "      <td>0</td>\n",
              "      <td>0</td>\n",
              "      <td>0</td>\n",
              "      <td>0</td>\n",
              "      <td>0</td>\n",
              "      <td>0</td>\n",
              "    </tr>\n",
              "    <tr>\n",
              "      <th>658</th>\n",
              "      <td>610552</td>\n",
              "      <td>63-0676-1-00-1-0</td>\n",
              "      <td>ไอชิน เอไอ (ประเทศไทย)</td>\n",
              "      <td>80 หมู่ที่ 5 ถนนบางนา-ตราด ต.บางสมัคร อ.บางปะก...</td>\n",
              "      <td>038-570062</td>\n",
              "      <td>038-570067</td>\n",
              "      <td>ฉะเชิงเทรา</td>\n",
              "      <td>[4.8.6.6]</td>\n",
              "      <td>Drive Shaft</td>\n",
              "      <td>0</td>\n",
              "      <td>...</td>\n",
              "      <td>0</td>\n",
              "      <td>0</td>\n",
              "      <td>0</td>\n",
              "      <td>0</td>\n",
              "      <td>0</td>\n",
              "      <td>0</td>\n",
              "      <td>0</td>\n",
              "      <td>0</td>\n",
              "      <td>0</td>\n",
              "      <td>0</td>\n",
              "    </tr>\n",
              "    <tr>\n",
              "      <th>659</th>\n",
              "      <td>E630269</td>\n",
              "      <td>63-0668-1-00-1-0</td>\n",
              "      <td>เอ็มเอ็มซี อีเล็คโทรนิคส์ (ไทยแลนด์)</td>\n",
              "      <td>129/2 หมู่ที่ 17 ถนนเทพรัตน ต.บางเสาธง อ.บางเส...</td>\n",
              "      <td>02-3152273-4</td>\n",
              "      <td>NaN</td>\n",
              "      <td>สมุทรปราการ</td>\n",
              "      <td>[5.4.3.2]</td>\n",
              "      <td>Multiband Antenna</td>\n",
              "      <td>0</td>\n",
              "      <td>...</td>\n",
              "      <td>0</td>\n",
              "      <td>0</td>\n",
              "      <td>0</td>\n",
              "      <td>0</td>\n",
              "      <td>0</td>\n",
              "      <td>0</td>\n",
              "      <td>0</td>\n",
              "      <td>0</td>\n",
              "      <td>0</td>\n",
              "      <td>0</td>\n",
              "    </tr>\n",
              "  </tbody>\n",
              "</table>\n",
              "<p>660 rows × 165 columns</p>\n",
              "</div>\n",
              "    <div class=\"colab-df-buttons\">\n",
              "\n",
              "  <div class=\"colab-df-container\">\n",
              "    <button class=\"colab-df-convert\" onclick=\"convertToInteractive('df-d3a9f9fb-5a9b-485d-93c0-222808f935e7')\"\n",
              "            title=\"Convert this dataframe to an interactive table.\"\n",
              "            style=\"display:none;\">\n",
              "\n",
              "  <svg xmlns=\"http://www.w3.org/2000/svg\" height=\"24px\" viewBox=\"0 -960 960 960\">\n",
              "    <path d=\"M120-120v-720h720v720H120Zm60-500h600v-160H180v160Zm220 220h160v-160H400v160Zm0 220h160v-160H400v160ZM180-400h160v-160H180v160Zm440 0h160v-160H620v160ZM180-180h160v-160H180v160Zm440 0h160v-160H620v160Z\"/>\n",
              "  </svg>\n",
              "    </button>\n",
              "\n",
              "  <style>\n",
              "    .colab-df-container {\n",
              "      display:flex;\n",
              "      gap: 12px;\n",
              "    }\n",
              "\n",
              "    .colab-df-convert {\n",
              "      background-color: #E8F0FE;\n",
              "      border: none;\n",
              "      border-radius: 50%;\n",
              "      cursor: pointer;\n",
              "      display: none;\n",
              "      fill: #1967D2;\n",
              "      height: 32px;\n",
              "      padding: 0 0 0 0;\n",
              "      width: 32px;\n",
              "    }\n",
              "\n",
              "    .colab-df-convert:hover {\n",
              "      background-color: #E2EBFA;\n",
              "      box-shadow: 0px 1px 2px rgba(60, 64, 67, 0.3), 0px 1px 3px 1px rgba(60, 64, 67, 0.15);\n",
              "      fill: #174EA6;\n",
              "    }\n",
              "\n",
              "    .colab-df-buttons div {\n",
              "      margin-bottom: 4px;\n",
              "    }\n",
              "\n",
              "    [theme=dark] .colab-df-convert {\n",
              "      background-color: #3B4455;\n",
              "      fill: #D2E3FC;\n",
              "    }\n",
              "\n",
              "    [theme=dark] .colab-df-convert:hover {\n",
              "      background-color: #434B5C;\n",
              "      box-shadow: 0px 1px 3px 1px rgba(0, 0, 0, 0.15);\n",
              "      filter: drop-shadow(0px 1px 2px rgba(0, 0, 0, 0.3));\n",
              "      fill: #FFFFFF;\n",
              "    }\n",
              "  </style>\n",
              "\n",
              "    <script>\n",
              "      const buttonEl =\n",
              "        document.querySelector('#df-d3a9f9fb-5a9b-485d-93c0-222808f935e7 button.colab-df-convert');\n",
              "      buttonEl.style.display =\n",
              "        google.colab.kernel.accessAllowed ? 'block' : 'none';\n",
              "\n",
              "      async function convertToInteractive(key) {\n",
              "        const element = document.querySelector('#df-d3a9f9fb-5a9b-485d-93c0-222808f935e7');\n",
              "        const dataTable =\n",
              "          await google.colab.kernel.invokeFunction('convertToInteractive',\n",
              "                                                    [key], {});\n",
              "        if (!dataTable) return;\n",
              "\n",
              "        const docLinkHtml = 'Like what you see? Visit the ' +\n",
              "          '<a target=\"_blank\" href=https://colab.research.google.com/notebooks/data_table.ipynb>data table notebook</a>'\n",
              "          + ' to learn more about interactive tables.';\n",
              "        element.innerHTML = '';\n",
              "        dataTable['output_type'] = 'display_data';\n",
              "        await google.colab.output.renderOutput(dataTable, element);\n",
              "        const docLink = document.createElement('div');\n",
              "        docLink.innerHTML = docLinkHtml;\n",
              "        element.appendChild(docLink);\n",
              "      }\n",
              "    </script>\n",
              "  </div>\n",
              "\n",
              "\n",
              "<div id=\"df-a590f9b1-8b45-454b-84d4-ad0b1443b117\">\n",
              "  <button class=\"colab-df-quickchart\" onclick=\"quickchart('df-a590f9b1-8b45-454b-84d4-ad0b1443b117')\"\n",
              "            title=\"Suggest charts\"\n",
              "            style=\"display:none;\">\n",
              "\n",
              "<svg xmlns=\"http://www.w3.org/2000/svg\" height=\"24px\"viewBox=\"0 0 24 24\"\n",
              "     width=\"24px\">\n",
              "    <g>\n",
              "        <path d=\"M19 3H5c-1.1 0-2 .9-2 2v14c0 1.1.9 2 2 2h14c1.1 0 2-.9 2-2V5c0-1.1-.9-2-2-2zM9 17H7v-7h2v7zm4 0h-2V7h2v10zm4 0h-2v-4h2v4z\"/>\n",
              "    </g>\n",
              "</svg>\n",
              "  </button>\n",
              "\n",
              "<style>\n",
              "  .colab-df-quickchart {\n",
              "      --bg-color: #E8F0FE;\n",
              "      --fill-color: #1967D2;\n",
              "      --hover-bg-color: #E2EBFA;\n",
              "      --hover-fill-color: #174EA6;\n",
              "      --disabled-fill-color: #AAA;\n",
              "      --disabled-bg-color: #DDD;\n",
              "  }\n",
              "\n",
              "  [theme=dark] .colab-df-quickchart {\n",
              "      --bg-color: #3B4455;\n",
              "      --fill-color: #D2E3FC;\n",
              "      --hover-bg-color: #434B5C;\n",
              "      --hover-fill-color: #FFFFFF;\n",
              "      --disabled-bg-color: #3B4455;\n",
              "      --disabled-fill-color: #666;\n",
              "  }\n",
              "\n",
              "  .colab-df-quickchart {\n",
              "    background-color: var(--bg-color);\n",
              "    border: none;\n",
              "    border-radius: 50%;\n",
              "    cursor: pointer;\n",
              "    display: none;\n",
              "    fill: var(--fill-color);\n",
              "    height: 32px;\n",
              "    padding: 0;\n",
              "    width: 32px;\n",
              "  }\n",
              "\n",
              "  .colab-df-quickchart:hover {\n",
              "    background-color: var(--hover-bg-color);\n",
              "    box-shadow: 0 1px 2px rgba(60, 64, 67, 0.3), 0 1px 3px 1px rgba(60, 64, 67, 0.15);\n",
              "    fill: var(--button-hover-fill-color);\n",
              "  }\n",
              "\n",
              "  .colab-df-quickchart-complete:disabled,\n",
              "  .colab-df-quickchart-complete:disabled:hover {\n",
              "    background-color: var(--disabled-bg-color);\n",
              "    fill: var(--disabled-fill-color);\n",
              "    box-shadow: none;\n",
              "  }\n",
              "\n",
              "  .colab-df-spinner {\n",
              "    border: 2px solid var(--fill-color);\n",
              "    border-color: transparent;\n",
              "    border-bottom-color: var(--fill-color);\n",
              "    animation:\n",
              "      spin 1s steps(1) infinite;\n",
              "  }\n",
              "\n",
              "  @keyframes spin {\n",
              "    0% {\n",
              "      border-color: transparent;\n",
              "      border-bottom-color: var(--fill-color);\n",
              "      border-left-color: var(--fill-color);\n",
              "    }\n",
              "    20% {\n",
              "      border-color: transparent;\n",
              "      border-left-color: var(--fill-color);\n",
              "      border-top-color: var(--fill-color);\n",
              "    }\n",
              "    30% {\n",
              "      border-color: transparent;\n",
              "      border-left-color: var(--fill-color);\n",
              "      border-top-color: var(--fill-color);\n",
              "      border-right-color: var(--fill-color);\n",
              "    }\n",
              "    40% {\n",
              "      border-color: transparent;\n",
              "      border-right-color: var(--fill-color);\n",
              "      border-top-color: var(--fill-color);\n",
              "    }\n",
              "    60% {\n",
              "      border-color: transparent;\n",
              "      border-right-color: var(--fill-color);\n",
              "    }\n",
              "    80% {\n",
              "      border-color: transparent;\n",
              "      border-right-color: var(--fill-color);\n",
              "      border-bottom-color: var(--fill-color);\n",
              "    }\n",
              "    90% {\n",
              "      border-color: transparent;\n",
              "      border-bottom-color: var(--fill-color);\n",
              "    }\n",
              "  }\n",
              "</style>\n",
              "\n",
              "  <script>\n",
              "    async function quickchart(key) {\n",
              "      const quickchartButtonEl =\n",
              "        document.querySelector('#' + key + ' button');\n",
              "      quickchartButtonEl.disabled = true;  // To prevent multiple clicks.\n",
              "      quickchartButtonEl.classList.add('colab-df-spinner');\n",
              "      try {\n",
              "        const charts = await google.colab.kernel.invokeFunction(\n",
              "            'suggestCharts', [key], {});\n",
              "      } catch (error) {\n",
              "        console.error('Error during call to suggestCharts:', error);\n",
              "      }\n",
              "      quickchartButtonEl.classList.remove('colab-df-spinner');\n",
              "      quickchartButtonEl.classList.add('colab-df-quickchart-complete');\n",
              "    }\n",
              "    (() => {\n",
              "      let quickchartButtonEl =\n",
              "        document.querySelector('#df-a590f9b1-8b45-454b-84d4-ad0b1443b117 button');\n",
              "      quickchartButtonEl.style.display =\n",
              "        google.colab.kernel.accessAllowed ? 'block' : 'none';\n",
              "    })();\n",
              "  </script>\n",
              "</div>\n",
              "    </div>\n",
              "  </div>\n"
            ]
          },
          "metadata": {},
          "execution_count": 4
        }
      ]
    },
    {
      "cell_type": "markdown",
      "source": [
        "# Load gsheet"
      ],
      "metadata": {
        "id": "rsZwEAijGAZs"
      }
    },
    {
      "cell_type": "code",
      "source": [
        "from google.colab import auth\n",
        "auth.authenticate_user()\n",
        "\n",
        "import gspread\n",
        "from google.auth import default\n",
        "creds,_ = default()\n",
        "\n",
        "gc = gspread.authorize(creds)\n"
      ],
      "metadata": {
        "id": "ZzDgK_IFG8N3"
      },
      "execution_count": 5,
      "outputs": []
    },
    {
      "cell_type": "code",
      "source": [
        "gsht = gc.open_by_key('1aR5daC12wi5NKlUXKzSBX_5jGX7C28CedsAYfAB_14g')"
      ],
      "metadata": {
        "id": "EFg2pY9VISbG"
      },
      "execution_count": 6,
      "outputs": []
    },
    {
      "cell_type": "code",
      "source": [
        "worksheet2 = gsht.worksheet('มิ.ย. 2563')\n",
        "rows = worksheet2.get_all_values()\n",
        "data_from_gsheet = pd.DataFrame.from_records(rows)"
      ],
      "metadata": {
        "id": "ewXIIW69IolH"
      },
      "execution_count": 7,
      "outputs": []
    },
    {
      "cell_type": "code",
      "source": [
        "data_from_gsheet.head()"
      ],
      "metadata": {
        "colab": {
          "base_uri": "https://localhost:8080/",
          "height": 463
        },
        "id": "tnT6vkvVLZN4",
        "outputId": "af284aff-b432-4e31-a724-907a1419262e"
      },
      "execution_count": 8,
      "outputs": [
        {
          "output_type": "execute_result",
          "data": {
            "text/plain": [
              "          0                   1                                        2    \\\n",
              "0                                                                            \n",
              "1                                                                            \n",
              "2  เลขที่คำขอ  เลขที่บัตรส่งเสริม                        ชื่อบริษัทภาษาไทย   \n",
              "3      610707    62-0422-1-04-1-0  กรุงเทพ ไดอ์แคสซ์ติ้ง แอนด์ อินแจ๊กชั่น   \n",
              "4      620660    63-0107-1-00-1-0                        เจ้าพระยา คาร์บอน   \n",
              "\n",
              "                                                 3              4    \\\n",
              "0                                                                     \n",
              "1                                                                     \n",
              "2                                  สถานที่ตั้งโรงงาน  เบอร์โทรศัพท์   \n",
              "3  46/1,46/2 หมู่ที่ 12 ถนนบางพลี-บางนาตราด ต.บาง...  02-3373078-84   \n",
              "4          ต.เขาล้าน อ.ทับสะแก ประจวบคีรีขันธ์ 77130    081-8412110   \n",
              "\n",
              "             5                6             7                             8    \\\n",
              "0                                                                               \n",
              "1                                                                               \n",
              "2    เบอร์โทรสาร          จังหวัด  ประเภทกิจการ                 ชื่อผลิตภัณฑ์   \n",
              "3  02-3373589-90      สมุทรปราการ         [6.6]  Plastic Parts for Automotive   \n",
              "4                 ประจวบคีรีขันธ์        [1.15]              Activated Carbon   \n",
              "\n",
              "                    9    ...          155            156            157  \\\n",
              "0  ปริญญาตรีหรือสูงกว่า  ...                                              \n",
              "1        วิศวกรรมศาสตร์  ...                                              \n",
              "2             อุตสาหการ  ...  สาขาการตลาด  สาขาการจัดการ  สาขาเลขานุการ   \n",
              "3                     0  ...            0              0              0   \n",
              "4                     0  ...            1              1              0   \n",
              "\n",
              "                     158                   159                       160  \\\n",
              "0                                                                          \n",
              "1                                                                          \n",
              "2  สาขาคอมพิวเตอร์ธุรกิจ  สาขาการเงินการธนาคาร  สาขาพัฒนาชุมชน-การสหกรณ์   \n",
              "3                      0                     0                         0   \n",
              "4                      0                     0                         0   \n",
              "\n",
              "         161                          162             163  \\\n",
              "0                                                           \n",
              "1                                                           \n",
              "2  พาณิชยการ  สาขาอุตสาหกรรมการท่องเที่ยว  สาขาศิลปศาสตร์   \n",
              "3          0                            0               0   \n",
              "4          0                            0               0   \n",
              "\n",
              "                            164  \n",
              "0                                \n",
              "1                                \n",
              "2  อาชีวศึกษาบริหารธุรกิจ อื่นๆ  \n",
              "3                             0  \n",
              "4                             0  \n",
              "\n",
              "[5 rows x 165 columns]"
            ],
            "text/html": [
              "\n",
              "  <div id=\"df-815d0131-4846-455f-a970-82f0581e48b5\" class=\"colab-df-container\">\n",
              "    <div>\n",
              "<style scoped>\n",
              "    .dataframe tbody tr th:only-of-type {\n",
              "        vertical-align: middle;\n",
              "    }\n",
              "\n",
              "    .dataframe tbody tr th {\n",
              "        vertical-align: top;\n",
              "    }\n",
              "\n",
              "    .dataframe thead th {\n",
              "        text-align: right;\n",
              "    }\n",
              "</style>\n",
              "<table border=\"1\" class=\"dataframe\">\n",
              "  <thead>\n",
              "    <tr style=\"text-align: right;\">\n",
              "      <th></th>\n",
              "      <th>0</th>\n",
              "      <th>1</th>\n",
              "      <th>2</th>\n",
              "      <th>3</th>\n",
              "      <th>4</th>\n",
              "      <th>5</th>\n",
              "      <th>6</th>\n",
              "      <th>7</th>\n",
              "      <th>8</th>\n",
              "      <th>9</th>\n",
              "      <th>...</th>\n",
              "      <th>155</th>\n",
              "      <th>156</th>\n",
              "      <th>157</th>\n",
              "      <th>158</th>\n",
              "      <th>159</th>\n",
              "      <th>160</th>\n",
              "      <th>161</th>\n",
              "      <th>162</th>\n",
              "      <th>163</th>\n",
              "      <th>164</th>\n",
              "    </tr>\n",
              "  </thead>\n",
              "  <tbody>\n",
              "    <tr>\n",
              "      <th>0</th>\n",
              "      <td></td>\n",
              "      <td></td>\n",
              "      <td></td>\n",
              "      <td></td>\n",
              "      <td></td>\n",
              "      <td></td>\n",
              "      <td></td>\n",
              "      <td></td>\n",
              "      <td></td>\n",
              "      <td>ปริญญาตรีหรือสูงกว่า</td>\n",
              "      <td>...</td>\n",
              "      <td></td>\n",
              "      <td></td>\n",
              "      <td></td>\n",
              "      <td></td>\n",
              "      <td></td>\n",
              "      <td></td>\n",
              "      <td></td>\n",
              "      <td></td>\n",
              "      <td></td>\n",
              "      <td></td>\n",
              "    </tr>\n",
              "    <tr>\n",
              "      <th>1</th>\n",
              "      <td></td>\n",
              "      <td></td>\n",
              "      <td></td>\n",
              "      <td></td>\n",
              "      <td></td>\n",
              "      <td></td>\n",
              "      <td></td>\n",
              "      <td></td>\n",
              "      <td></td>\n",
              "      <td>วิศวกรรมศาสตร์</td>\n",
              "      <td>...</td>\n",
              "      <td></td>\n",
              "      <td></td>\n",
              "      <td></td>\n",
              "      <td></td>\n",
              "      <td></td>\n",
              "      <td></td>\n",
              "      <td></td>\n",
              "      <td></td>\n",
              "      <td></td>\n",
              "      <td></td>\n",
              "    </tr>\n",
              "    <tr>\n",
              "      <th>2</th>\n",
              "      <td>เลขที่คำขอ</td>\n",
              "      <td>เลขที่บัตรส่งเสริม</td>\n",
              "      <td>ชื่อบริษัทภาษาไทย</td>\n",
              "      <td>สถานที่ตั้งโรงงาน</td>\n",
              "      <td>เบอร์โทรศัพท์</td>\n",
              "      <td>เบอร์โทรสาร</td>\n",
              "      <td>จังหวัด</td>\n",
              "      <td>ประเภทกิจการ</td>\n",
              "      <td>ชื่อผลิตภัณฑ์</td>\n",
              "      <td>อุตสาหการ</td>\n",
              "      <td>...</td>\n",
              "      <td>สาขาการตลาด</td>\n",
              "      <td>สาขาการจัดการ</td>\n",
              "      <td>สาขาเลขานุการ</td>\n",
              "      <td>สาขาคอมพิวเตอร์ธุรกิจ</td>\n",
              "      <td>สาขาการเงินการธนาคาร</td>\n",
              "      <td>สาขาพัฒนาชุมชน-การสหกรณ์</td>\n",
              "      <td>พาณิชยการ</td>\n",
              "      <td>สาขาอุตสาหกรรมการท่องเที่ยว</td>\n",
              "      <td>สาขาศิลปศาสตร์</td>\n",
              "      <td>อาชีวศึกษาบริหารธุรกิจ อื่นๆ</td>\n",
              "    </tr>\n",
              "    <tr>\n",
              "      <th>3</th>\n",
              "      <td>610707</td>\n",
              "      <td>62-0422-1-04-1-0</td>\n",
              "      <td>กรุงเทพ ไดอ์แคสซ์ติ้ง แอนด์ อินแจ๊กชั่น</td>\n",
              "      <td>46/1,46/2 หมู่ที่ 12 ถนนบางพลี-บางนาตราด ต.บาง...</td>\n",
              "      <td>02-3373078-84</td>\n",
              "      <td>02-3373589-90</td>\n",
              "      <td>สมุทรปราการ</td>\n",
              "      <td>[6.6]</td>\n",
              "      <td>Plastic Parts for Automotive</td>\n",
              "      <td>0</td>\n",
              "      <td>...</td>\n",
              "      <td>0</td>\n",
              "      <td>0</td>\n",
              "      <td>0</td>\n",
              "      <td>0</td>\n",
              "      <td>0</td>\n",
              "      <td>0</td>\n",
              "      <td>0</td>\n",
              "      <td>0</td>\n",
              "      <td>0</td>\n",
              "      <td>0</td>\n",
              "    </tr>\n",
              "    <tr>\n",
              "      <th>4</th>\n",
              "      <td>620660</td>\n",
              "      <td>63-0107-1-00-1-0</td>\n",
              "      <td>เจ้าพระยา คาร์บอน</td>\n",
              "      <td>ต.เขาล้าน อ.ทับสะแก ประจวบคีรีขันธ์ 77130</td>\n",
              "      <td>081-8412110</td>\n",
              "      <td></td>\n",
              "      <td>ประจวบคีรีขันธ์</td>\n",
              "      <td>[1.15]</td>\n",
              "      <td>Activated Carbon</td>\n",
              "      <td>0</td>\n",
              "      <td>...</td>\n",
              "      <td>1</td>\n",
              "      <td>1</td>\n",
              "      <td>0</td>\n",
              "      <td>0</td>\n",
              "      <td>0</td>\n",
              "      <td>0</td>\n",
              "      <td>0</td>\n",
              "      <td>0</td>\n",
              "      <td>0</td>\n",
              "      <td>0</td>\n",
              "    </tr>\n",
              "  </tbody>\n",
              "</table>\n",
              "<p>5 rows × 165 columns</p>\n",
              "</div>\n",
              "    <div class=\"colab-df-buttons\">\n",
              "\n",
              "  <div class=\"colab-df-container\">\n",
              "    <button class=\"colab-df-convert\" onclick=\"convertToInteractive('df-815d0131-4846-455f-a970-82f0581e48b5')\"\n",
              "            title=\"Convert this dataframe to an interactive table.\"\n",
              "            style=\"display:none;\">\n",
              "\n",
              "  <svg xmlns=\"http://www.w3.org/2000/svg\" height=\"24px\" viewBox=\"0 -960 960 960\">\n",
              "    <path d=\"M120-120v-720h720v720H120Zm60-500h600v-160H180v160Zm220 220h160v-160H400v160Zm0 220h160v-160H400v160ZM180-400h160v-160H180v160Zm440 0h160v-160H620v160ZM180-180h160v-160H180v160Zm440 0h160v-160H620v160Z\"/>\n",
              "  </svg>\n",
              "    </button>\n",
              "\n",
              "  <style>\n",
              "    .colab-df-container {\n",
              "      display:flex;\n",
              "      gap: 12px;\n",
              "    }\n",
              "\n",
              "    .colab-df-convert {\n",
              "      background-color: #E8F0FE;\n",
              "      border: none;\n",
              "      border-radius: 50%;\n",
              "      cursor: pointer;\n",
              "      display: none;\n",
              "      fill: #1967D2;\n",
              "      height: 32px;\n",
              "      padding: 0 0 0 0;\n",
              "      width: 32px;\n",
              "    }\n",
              "\n",
              "    .colab-df-convert:hover {\n",
              "      background-color: #E2EBFA;\n",
              "      box-shadow: 0px 1px 2px rgba(60, 64, 67, 0.3), 0px 1px 3px 1px rgba(60, 64, 67, 0.15);\n",
              "      fill: #174EA6;\n",
              "    }\n",
              "\n",
              "    .colab-df-buttons div {\n",
              "      margin-bottom: 4px;\n",
              "    }\n",
              "\n",
              "    [theme=dark] .colab-df-convert {\n",
              "      background-color: #3B4455;\n",
              "      fill: #D2E3FC;\n",
              "    }\n",
              "\n",
              "    [theme=dark] .colab-df-convert:hover {\n",
              "      background-color: #434B5C;\n",
              "      box-shadow: 0px 1px 3px 1px rgba(0, 0, 0, 0.15);\n",
              "      filter: drop-shadow(0px 1px 2px rgba(0, 0, 0, 0.3));\n",
              "      fill: #FFFFFF;\n",
              "    }\n",
              "  </style>\n",
              "\n",
              "    <script>\n",
              "      const buttonEl =\n",
              "        document.querySelector('#df-815d0131-4846-455f-a970-82f0581e48b5 button.colab-df-convert');\n",
              "      buttonEl.style.display =\n",
              "        google.colab.kernel.accessAllowed ? 'block' : 'none';\n",
              "\n",
              "      async function convertToInteractive(key) {\n",
              "        const element = document.querySelector('#df-815d0131-4846-455f-a970-82f0581e48b5');\n",
              "        const dataTable =\n",
              "          await google.colab.kernel.invokeFunction('convertToInteractive',\n",
              "                                                    [key], {});\n",
              "        if (!dataTable) return;\n",
              "\n",
              "        const docLinkHtml = 'Like what you see? Visit the ' +\n",
              "          '<a target=\"_blank\" href=https://colab.research.google.com/notebooks/data_table.ipynb>data table notebook</a>'\n",
              "          + ' to learn more about interactive tables.';\n",
              "        element.innerHTML = '';\n",
              "        dataTable['output_type'] = 'display_data';\n",
              "        await google.colab.output.renderOutput(dataTable, element);\n",
              "        const docLink = document.createElement('div');\n",
              "        docLink.innerHTML = docLinkHtml;\n",
              "        element.appendChild(docLink);\n",
              "      }\n",
              "    </script>\n",
              "  </div>\n",
              "\n",
              "\n",
              "<div id=\"df-82905be8-ff8d-4d51-9a95-4c08cf65c6e6\">\n",
              "  <button class=\"colab-df-quickchart\" onclick=\"quickchart('df-82905be8-ff8d-4d51-9a95-4c08cf65c6e6')\"\n",
              "            title=\"Suggest charts\"\n",
              "            style=\"display:none;\">\n",
              "\n",
              "<svg xmlns=\"http://www.w3.org/2000/svg\" height=\"24px\"viewBox=\"0 0 24 24\"\n",
              "     width=\"24px\">\n",
              "    <g>\n",
              "        <path d=\"M19 3H5c-1.1 0-2 .9-2 2v14c0 1.1.9 2 2 2h14c1.1 0 2-.9 2-2V5c0-1.1-.9-2-2-2zM9 17H7v-7h2v7zm4 0h-2V7h2v10zm4 0h-2v-4h2v4z\"/>\n",
              "    </g>\n",
              "</svg>\n",
              "  </button>\n",
              "\n",
              "<style>\n",
              "  .colab-df-quickchart {\n",
              "      --bg-color: #E8F0FE;\n",
              "      --fill-color: #1967D2;\n",
              "      --hover-bg-color: #E2EBFA;\n",
              "      --hover-fill-color: #174EA6;\n",
              "      --disabled-fill-color: #AAA;\n",
              "      --disabled-bg-color: #DDD;\n",
              "  }\n",
              "\n",
              "  [theme=dark] .colab-df-quickchart {\n",
              "      --bg-color: #3B4455;\n",
              "      --fill-color: #D2E3FC;\n",
              "      --hover-bg-color: #434B5C;\n",
              "      --hover-fill-color: #FFFFFF;\n",
              "      --disabled-bg-color: #3B4455;\n",
              "      --disabled-fill-color: #666;\n",
              "  }\n",
              "\n",
              "  .colab-df-quickchart {\n",
              "    background-color: var(--bg-color);\n",
              "    border: none;\n",
              "    border-radius: 50%;\n",
              "    cursor: pointer;\n",
              "    display: none;\n",
              "    fill: var(--fill-color);\n",
              "    height: 32px;\n",
              "    padding: 0;\n",
              "    width: 32px;\n",
              "  }\n",
              "\n",
              "  .colab-df-quickchart:hover {\n",
              "    background-color: var(--hover-bg-color);\n",
              "    box-shadow: 0 1px 2px rgba(60, 64, 67, 0.3), 0 1px 3px 1px rgba(60, 64, 67, 0.15);\n",
              "    fill: var(--button-hover-fill-color);\n",
              "  }\n",
              "\n",
              "  .colab-df-quickchart-complete:disabled,\n",
              "  .colab-df-quickchart-complete:disabled:hover {\n",
              "    background-color: var(--disabled-bg-color);\n",
              "    fill: var(--disabled-fill-color);\n",
              "    box-shadow: none;\n",
              "  }\n",
              "\n",
              "  .colab-df-spinner {\n",
              "    border: 2px solid var(--fill-color);\n",
              "    border-color: transparent;\n",
              "    border-bottom-color: var(--fill-color);\n",
              "    animation:\n",
              "      spin 1s steps(1) infinite;\n",
              "  }\n",
              "\n",
              "  @keyframes spin {\n",
              "    0% {\n",
              "      border-color: transparent;\n",
              "      border-bottom-color: var(--fill-color);\n",
              "      border-left-color: var(--fill-color);\n",
              "    }\n",
              "    20% {\n",
              "      border-color: transparent;\n",
              "      border-left-color: var(--fill-color);\n",
              "      border-top-color: var(--fill-color);\n",
              "    }\n",
              "    30% {\n",
              "      border-color: transparent;\n",
              "      border-left-color: var(--fill-color);\n",
              "      border-top-color: var(--fill-color);\n",
              "      border-right-color: var(--fill-color);\n",
              "    }\n",
              "    40% {\n",
              "      border-color: transparent;\n",
              "      border-right-color: var(--fill-color);\n",
              "      border-top-color: var(--fill-color);\n",
              "    }\n",
              "    60% {\n",
              "      border-color: transparent;\n",
              "      border-right-color: var(--fill-color);\n",
              "    }\n",
              "    80% {\n",
              "      border-color: transparent;\n",
              "      border-right-color: var(--fill-color);\n",
              "      border-bottom-color: var(--fill-color);\n",
              "    }\n",
              "    90% {\n",
              "      border-color: transparent;\n",
              "      border-bottom-color: var(--fill-color);\n",
              "    }\n",
              "  }\n",
              "</style>\n",
              "\n",
              "  <script>\n",
              "    async function quickchart(key) {\n",
              "      const quickchartButtonEl =\n",
              "        document.querySelector('#' + key + ' button');\n",
              "      quickchartButtonEl.disabled = true;  // To prevent multiple clicks.\n",
              "      quickchartButtonEl.classList.add('colab-df-spinner');\n",
              "      try {\n",
              "        const charts = await google.colab.kernel.invokeFunction(\n",
              "            'suggestCharts', [key], {});\n",
              "      } catch (error) {\n",
              "        console.error('Error during call to suggestCharts:', error);\n",
              "      }\n",
              "      quickchartButtonEl.classList.remove('colab-df-spinner');\n",
              "      quickchartButtonEl.classList.add('colab-df-quickchart-complete');\n",
              "    }\n",
              "    (() => {\n",
              "      let quickchartButtonEl =\n",
              "        document.querySelector('#df-82905be8-ff8d-4d51-9a95-4c08cf65c6e6 button');\n",
              "      quickchartButtonEl.style.display =\n",
              "        google.colab.kernel.accessAllowed ? 'block' : 'none';\n",
              "    })();\n",
              "  </script>\n",
              "</div>\n",
              "    </div>\n",
              "  </div>\n"
            ]
          },
          "metadata": {},
          "execution_count": 8
        }
      ]
    },
    {
      "cell_type": "code",
      "source": [
        "data_from_gsheet.columns = data_from_gsheet.iloc[2]\n",
        "data_from_gsheet = data_from_gsheet.iloc[3:].reset_index().iloc[:,1:]\n",
        "data_from_gsheet.head()"
      ],
      "metadata": {
        "colab": {
          "base_uri": "https://localhost:8080/",
          "height": 602
        },
        "id": "f2OjRBa9KHQ-",
        "outputId": "72d08ebf-59ca-4c8d-d853-fc3b269d0318"
      },
      "execution_count": 9,
      "outputs": [
        {
          "output_type": "execute_result",
          "data": {
            "text/plain": [
              "2 เลขที่คำขอ เลขที่บัตรส่งเสริม                        ชื่อบริษัทภาษาไทย  \\\n",
              "0     610707   62-0422-1-04-1-0  กรุงเทพ ไดอ์แคสซ์ติ้ง แอนด์ อินแจ๊กชั่น   \n",
              "1     620660   63-0107-1-00-1-0                        เจ้าพระยา คาร์บอน   \n",
              "2     610182   63-0101-1-00-1-0                        อาร์ต ออฟ เบคกิ้ง   \n",
              "3     620318   63-0080-1-00-0-0       เอ็นจีเค สปาร์คปลั๊กส์ (ประเทศไทย)   \n",
              "4     620185   63-0079-1-00-0-0       เอ็นจีเค สปาร์คปลั๊กส์ (ประเทศไทย)   \n",
              "\n",
              "2                                  สถานที่ตั้งโรงงาน  เบอร์โทรศัพท์  \\\n",
              "0  46/1,46/2 หมู่ที่ 12 ถนนบางพลี-บางนาตราด ต.บาง...  02-3373078-84   \n",
              "1          ต.เขาล้าน อ.ทับสะแก ประจวบคีรีขันธ์ 77130    081-8412110   \n",
              "2  111/21 หมู่ที่ 2 ต.ท่าจีน อ.เมือง สมุทรสาคร 74000     034-440157   \n",
              "3   700/864 หมู่ที่ 1 ต.พานทอง อ.พานทอง ชลบุรี 20160                  \n",
              "4   700/864 หมู่ที่ 1 ต.พานทอง อ.พานทอง ชลบุรี 20160                  \n",
              "\n",
              "2    เบอร์โทรสาร          จังหวัด ประเภทกิจการ                  ชื่อผลิตภัณฑ์  \\\n",
              "0  02-3373589-90      สมุทรปราการ        [6.6]   Plastic Parts for Automotive   \n",
              "1                 ประจวบคีรีขันธ์       [1.15]               Activated Carbon   \n",
              "2                       สมุทรสาคร       [1.17]  Frozen Pizza Disc/Pizza Dough   \n",
              "3                          ชลบุรี     [4.8.17]             Temperature Sensor   \n",
              "4                          ชลบุรี     [4.8.17]                  Oxygen Sensor   \n",
              "\n",
              "2 อุตสาหการ  ... สาขาการตลาด สาขาการจัดการ สาขาเลขานุการ  \\\n",
              "0         0  ...           0             0             0   \n",
              "1         0  ...           1             1             0   \n",
              "2         1  ...           0             0             0   \n",
              "3         0  ...           0             0             0   \n",
              "4         2  ...           0             0             0   \n",
              "\n",
              "2 สาขาคอมพิวเตอร์ธุรกิจ สาขาการเงินการธนาคาร สาขาพัฒนาชุมชน-การสหกรณ์  \\\n",
              "0                     0                    0                        0   \n",
              "1                     0                    0                        0   \n",
              "2                     0                    0                        2   \n",
              "3                     0                    0                        0   \n",
              "4                     0                    0                        0   \n",
              "\n",
              "2 พาณิชยการ สาขาอุตสาหกรรมการท่องเที่ยว สาขาศิลปศาสตร์  \\\n",
              "0         0                           0              0   \n",
              "1         0                           0              0   \n",
              "2         3                           0              0   \n",
              "3         0                           0              0   \n",
              "4         0                           0              0   \n",
              "\n",
              "2 อาชีวศึกษาบริหารธุรกิจ อื่นๆ  \n",
              "0                            0  \n",
              "1                            0  \n",
              "2                            0  \n",
              "3                            0  \n",
              "4                            0  \n",
              "\n",
              "[5 rows x 165 columns]"
            ],
            "text/html": [
              "\n",
              "  <div id=\"df-b3c73787-c605-4273-bea5-aa8c848bb8b4\" class=\"colab-df-container\">\n",
              "    <div>\n",
              "<style scoped>\n",
              "    .dataframe tbody tr th:only-of-type {\n",
              "        vertical-align: middle;\n",
              "    }\n",
              "\n",
              "    .dataframe tbody tr th {\n",
              "        vertical-align: top;\n",
              "    }\n",
              "\n",
              "    .dataframe thead th {\n",
              "        text-align: right;\n",
              "    }\n",
              "</style>\n",
              "<table border=\"1\" class=\"dataframe\">\n",
              "  <thead>\n",
              "    <tr style=\"text-align: right;\">\n",
              "      <th>2</th>\n",
              "      <th>เลขที่คำขอ</th>\n",
              "      <th>เลขที่บัตรส่งเสริม</th>\n",
              "      <th>ชื่อบริษัทภาษาไทย</th>\n",
              "      <th>สถานที่ตั้งโรงงาน</th>\n",
              "      <th>เบอร์โทรศัพท์</th>\n",
              "      <th>เบอร์โทรสาร</th>\n",
              "      <th>จังหวัด</th>\n",
              "      <th>ประเภทกิจการ</th>\n",
              "      <th>ชื่อผลิตภัณฑ์</th>\n",
              "      <th>อุตสาหการ</th>\n",
              "      <th>...</th>\n",
              "      <th>สาขาการตลาด</th>\n",
              "      <th>สาขาการจัดการ</th>\n",
              "      <th>สาขาเลขานุการ</th>\n",
              "      <th>สาขาคอมพิวเตอร์ธุรกิจ</th>\n",
              "      <th>สาขาการเงินการธนาคาร</th>\n",
              "      <th>สาขาพัฒนาชุมชน-การสหกรณ์</th>\n",
              "      <th>พาณิชยการ</th>\n",
              "      <th>สาขาอุตสาหกรรมการท่องเที่ยว</th>\n",
              "      <th>สาขาศิลปศาสตร์</th>\n",
              "      <th>อาชีวศึกษาบริหารธุรกิจ อื่นๆ</th>\n",
              "    </tr>\n",
              "  </thead>\n",
              "  <tbody>\n",
              "    <tr>\n",
              "      <th>0</th>\n",
              "      <td>610707</td>\n",
              "      <td>62-0422-1-04-1-0</td>\n",
              "      <td>กรุงเทพ ไดอ์แคสซ์ติ้ง แอนด์ อินแจ๊กชั่น</td>\n",
              "      <td>46/1,46/2 หมู่ที่ 12 ถนนบางพลี-บางนาตราด ต.บาง...</td>\n",
              "      <td>02-3373078-84</td>\n",
              "      <td>02-3373589-90</td>\n",
              "      <td>สมุทรปราการ</td>\n",
              "      <td>[6.6]</td>\n",
              "      <td>Plastic Parts for Automotive</td>\n",
              "      <td>0</td>\n",
              "      <td>...</td>\n",
              "      <td>0</td>\n",
              "      <td>0</td>\n",
              "      <td>0</td>\n",
              "      <td>0</td>\n",
              "      <td>0</td>\n",
              "      <td>0</td>\n",
              "      <td>0</td>\n",
              "      <td>0</td>\n",
              "      <td>0</td>\n",
              "      <td>0</td>\n",
              "    </tr>\n",
              "    <tr>\n",
              "      <th>1</th>\n",
              "      <td>620660</td>\n",
              "      <td>63-0107-1-00-1-0</td>\n",
              "      <td>เจ้าพระยา คาร์บอน</td>\n",
              "      <td>ต.เขาล้าน อ.ทับสะแก ประจวบคีรีขันธ์ 77130</td>\n",
              "      <td>081-8412110</td>\n",
              "      <td></td>\n",
              "      <td>ประจวบคีรีขันธ์</td>\n",
              "      <td>[1.15]</td>\n",
              "      <td>Activated Carbon</td>\n",
              "      <td>0</td>\n",
              "      <td>...</td>\n",
              "      <td>1</td>\n",
              "      <td>1</td>\n",
              "      <td>0</td>\n",
              "      <td>0</td>\n",
              "      <td>0</td>\n",
              "      <td>0</td>\n",
              "      <td>0</td>\n",
              "      <td>0</td>\n",
              "      <td>0</td>\n",
              "      <td>0</td>\n",
              "    </tr>\n",
              "    <tr>\n",
              "      <th>2</th>\n",
              "      <td>610182</td>\n",
              "      <td>63-0101-1-00-1-0</td>\n",
              "      <td>อาร์ต ออฟ เบคกิ้ง</td>\n",
              "      <td>111/21 หมู่ที่ 2 ต.ท่าจีน อ.เมือง สมุทรสาคร 74000</td>\n",
              "      <td>034-440157</td>\n",
              "      <td></td>\n",
              "      <td>สมุทรสาคร</td>\n",
              "      <td>[1.17]</td>\n",
              "      <td>Frozen Pizza Disc/Pizza Dough</td>\n",
              "      <td>1</td>\n",
              "      <td>...</td>\n",
              "      <td>0</td>\n",
              "      <td>0</td>\n",
              "      <td>0</td>\n",
              "      <td>0</td>\n",
              "      <td>0</td>\n",
              "      <td>2</td>\n",
              "      <td>3</td>\n",
              "      <td>0</td>\n",
              "      <td>0</td>\n",
              "      <td>0</td>\n",
              "    </tr>\n",
              "    <tr>\n",
              "      <th>3</th>\n",
              "      <td>620318</td>\n",
              "      <td>63-0080-1-00-0-0</td>\n",
              "      <td>เอ็นจีเค สปาร์คปลั๊กส์ (ประเทศไทย)</td>\n",
              "      <td>700/864 หมู่ที่ 1 ต.พานทอง อ.พานทอง ชลบุรี 20160</td>\n",
              "      <td></td>\n",
              "      <td></td>\n",
              "      <td>ชลบุรี</td>\n",
              "      <td>[4.8.17]</td>\n",
              "      <td>Temperature Sensor</td>\n",
              "      <td>0</td>\n",
              "      <td>...</td>\n",
              "      <td>0</td>\n",
              "      <td>0</td>\n",
              "      <td>0</td>\n",
              "      <td>0</td>\n",
              "      <td>0</td>\n",
              "      <td>0</td>\n",
              "      <td>0</td>\n",
              "      <td>0</td>\n",
              "      <td>0</td>\n",
              "      <td>0</td>\n",
              "    </tr>\n",
              "    <tr>\n",
              "      <th>4</th>\n",
              "      <td>620185</td>\n",
              "      <td>63-0079-1-00-0-0</td>\n",
              "      <td>เอ็นจีเค สปาร์คปลั๊กส์ (ประเทศไทย)</td>\n",
              "      <td>700/864 หมู่ที่ 1 ต.พานทอง อ.พานทอง ชลบุรี 20160</td>\n",
              "      <td></td>\n",
              "      <td></td>\n",
              "      <td>ชลบุรี</td>\n",
              "      <td>[4.8.17]</td>\n",
              "      <td>Oxygen Sensor</td>\n",
              "      <td>2</td>\n",
              "      <td>...</td>\n",
              "      <td>0</td>\n",
              "      <td>0</td>\n",
              "      <td>0</td>\n",
              "      <td>0</td>\n",
              "      <td>0</td>\n",
              "      <td>0</td>\n",
              "      <td>0</td>\n",
              "      <td>0</td>\n",
              "      <td>0</td>\n",
              "      <td>0</td>\n",
              "    </tr>\n",
              "  </tbody>\n",
              "</table>\n",
              "<p>5 rows × 165 columns</p>\n",
              "</div>\n",
              "    <div class=\"colab-df-buttons\">\n",
              "\n",
              "  <div class=\"colab-df-container\">\n",
              "    <button class=\"colab-df-convert\" onclick=\"convertToInteractive('df-b3c73787-c605-4273-bea5-aa8c848bb8b4')\"\n",
              "            title=\"Convert this dataframe to an interactive table.\"\n",
              "            style=\"display:none;\">\n",
              "\n",
              "  <svg xmlns=\"http://www.w3.org/2000/svg\" height=\"24px\" viewBox=\"0 -960 960 960\">\n",
              "    <path d=\"M120-120v-720h720v720H120Zm60-500h600v-160H180v160Zm220 220h160v-160H400v160Zm0 220h160v-160H400v160ZM180-400h160v-160H180v160Zm440 0h160v-160H620v160ZM180-180h160v-160H180v160Zm440 0h160v-160H620v160Z\"/>\n",
              "  </svg>\n",
              "    </button>\n",
              "\n",
              "  <style>\n",
              "    .colab-df-container {\n",
              "      display:flex;\n",
              "      gap: 12px;\n",
              "    }\n",
              "\n",
              "    .colab-df-convert {\n",
              "      background-color: #E8F0FE;\n",
              "      border: none;\n",
              "      border-radius: 50%;\n",
              "      cursor: pointer;\n",
              "      display: none;\n",
              "      fill: #1967D2;\n",
              "      height: 32px;\n",
              "      padding: 0 0 0 0;\n",
              "      width: 32px;\n",
              "    }\n",
              "\n",
              "    .colab-df-convert:hover {\n",
              "      background-color: #E2EBFA;\n",
              "      box-shadow: 0px 1px 2px rgba(60, 64, 67, 0.3), 0px 1px 3px 1px rgba(60, 64, 67, 0.15);\n",
              "      fill: #174EA6;\n",
              "    }\n",
              "\n",
              "    .colab-df-buttons div {\n",
              "      margin-bottom: 4px;\n",
              "    }\n",
              "\n",
              "    [theme=dark] .colab-df-convert {\n",
              "      background-color: #3B4455;\n",
              "      fill: #D2E3FC;\n",
              "    }\n",
              "\n",
              "    [theme=dark] .colab-df-convert:hover {\n",
              "      background-color: #434B5C;\n",
              "      box-shadow: 0px 1px 3px 1px rgba(0, 0, 0, 0.15);\n",
              "      filter: drop-shadow(0px 1px 2px rgba(0, 0, 0, 0.3));\n",
              "      fill: #FFFFFF;\n",
              "    }\n",
              "  </style>\n",
              "\n",
              "    <script>\n",
              "      const buttonEl =\n",
              "        document.querySelector('#df-b3c73787-c605-4273-bea5-aa8c848bb8b4 button.colab-df-convert');\n",
              "      buttonEl.style.display =\n",
              "        google.colab.kernel.accessAllowed ? 'block' : 'none';\n",
              "\n",
              "      async function convertToInteractive(key) {\n",
              "        const element = document.querySelector('#df-b3c73787-c605-4273-bea5-aa8c848bb8b4');\n",
              "        const dataTable =\n",
              "          await google.colab.kernel.invokeFunction('convertToInteractive',\n",
              "                                                    [key], {});\n",
              "        if (!dataTable) return;\n",
              "\n",
              "        const docLinkHtml = 'Like what you see? Visit the ' +\n",
              "          '<a target=\"_blank\" href=https://colab.research.google.com/notebooks/data_table.ipynb>data table notebook</a>'\n",
              "          + ' to learn more about interactive tables.';\n",
              "        element.innerHTML = '';\n",
              "        dataTable['output_type'] = 'display_data';\n",
              "        await google.colab.output.renderOutput(dataTable, element);\n",
              "        const docLink = document.createElement('div');\n",
              "        docLink.innerHTML = docLinkHtml;\n",
              "        element.appendChild(docLink);\n",
              "      }\n",
              "    </script>\n",
              "  </div>\n",
              "\n",
              "\n",
              "<div id=\"df-3874442e-1bc5-4bf0-a111-270d0f12be11\">\n",
              "  <button class=\"colab-df-quickchart\" onclick=\"quickchart('df-3874442e-1bc5-4bf0-a111-270d0f12be11')\"\n",
              "            title=\"Suggest charts\"\n",
              "            style=\"display:none;\">\n",
              "\n",
              "<svg xmlns=\"http://www.w3.org/2000/svg\" height=\"24px\"viewBox=\"0 0 24 24\"\n",
              "     width=\"24px\">\n",
              "    <g>\n",
              "        <path d=\"M19 3H5c-1.1 0-2 .9-2 2v14c0 1.1.9 2 2 2h14c1.1 0 2-.9 2-2V5c0-1.1-.9-2-2-2zM9 17H7v-7h2v7zm4 0h-2V7h2v10zm4 0h-2v-4h2v4z\"/>\n",
              "    </g>\n",
              "</svg>\n",
              "  </button>\n",
              "\n",
              "<style>\n",
              "  .colab-df-quickchart {\n",
              "      --bg-color: #E8F0FE;\n",
              "      --fill-color: #1967D2;\n",
              "      --hover-bg-color: #E2EBFA;\n",
              "      --hover-fill-color: #174EA6;\n",
              "      --disabled-fill-color: #AAA;\n",
              "      --disabled-bg-color: #DDD;\n",
              "  }\n",
              "\n",
              "  [theme=dark] .colab-df-quickchart {\n",
              "      --bg-color: #3B4455;\n",
              "      --fill-color: #D2E3FC;\n",
              "      --hover-bg-color: #434B5C;\n",
              "      --hover-fill-color: #FFFFFF;\n",
              "      --disabled-bg-color: #3B4455;\n",
              "      --disabled-fill-color: #666;\n",
              "  }\n",
              "\n",
              "  .colab-df-quickchart {\n",
              "    background-color: var(--bg-color);\n",
              "    border: none;\n",
              "    border-radius: 50%;\n",
              "    cursor: pointer;\n",
              "    display: none;\n",
              "    fill: var(--fill-color);\n",
              "    height: 32px;\n",
              "    padding: 0;\n",
              "    width: 32px;\n",
              "  }\n",
              "\n",
              "  .colab-df-quickchart:hover {\n",
              "    background-color: var(--hover-bg-color);\n",
              "    box-shadow: 0 1px 2px rgba(60, 64, 67, 0.3), 0 1px 3px 1px rgba(60, 64, 67, 0.15);\n",
              "    fill: var(--button-hover-fill-color);\n",
              "  }\n",
              "\n",
              "  .colab-df-quickchart-complete:disabled,\n",
              "  .colab-df-quickchart-complete:disabled:hover {\n",
              "    background-color: var(--disabled-bg-color);\n",
              "    fill: var(--disabled-fill-color);\n",
              "    box-shadow: none;\n",
              "  }\n",
              "\n",
              "  .colab-df-spinner {\n",
              "    border: 2px solid var(--fill-color);\n",
              "    border-color: transparent;\n",
              "    border-bottom-color: var(--fill-color);\n",
              "    animation:\n",
              "      spin 1s steps(1) infinite;\n",
              "  }\n",
              "\n",
              "  @keyframes spin {\n",
              "    0% {\n",
              "      border-color: transparent;\n",
              "      border-bottom-color: var(--fill-color);\n",
              "      border-left-color: var(--fill-color);\n",
              "    }\n",
              "    20% {\n",
              "      border-color: transparent;\n",
              "      border-left-color: var(--fill-color);\n",
              "      border-top-color: var(--fill-color);\n",
              "    }\n",
              "    30% {\n",
              "      border-color: transparent;\n",
              "      border-left-color: var(--fill-color);\n",
              "      border-top-color: var(--fill-color);\n",
              "      border-right-color: var(--fill-color);\n",
              "    }\n",
              "    40% {\n",
              "      border-color: transparent;\n",
              "      border-right-color: var(--fill-color);\n",
              "      border-top-color: var(--fill-color);\n",
              "    }\n",
              "    60% {\n",
              "      border-color: transparent;\n",
              "      border-right-color: var(--fill-color);\n",
              "    }\n",
              "    80% {\n",
              "      border-color: transparent;\n",
              "      border-right-color: var(--fill-color);\n",
              "      border-bottom-color: var(--fill-color);\n",
              "    }\n",
              "    90% {\n",
              "      border-color: transparent;\n",
              "      border-bottom-color: var(--fill-color);\n",
              "    }\n",
              "  }\n",
              "</style>\n",
              "\n",
              "  <script>\n",
              "    async function quickchart(key) {\n",
              "      const quickchartButtonEl =\n",
              "        document.querySelector('#' + key + ' button');\n",
              "      quickchartButtonEl.disabled = true;  // To prevent multiple clicks.\n",
              "      quickchartButtonEl.classList.add('colab-df-spinner');\n",
              "      try {\n",
              "        const charts = await google.colab.kernel.invokeFunction(\n",
              "            'suggestCharts', [key], {});\n",
              "      } catch (error) {\n",
              "        console.error('Error during call to suggestCharts:', error);\n",
              "      }\n",
              "      quickchartButtonEl.classList.remove('colab-df-spinner');\n",
              "      quickchartButtonEl.classList.add('colab-df-quickchart-complete');\n",
              "    }\n",
              "    (() => {\n",
              "      let quickchartButtonEl =\n",
              "        document.querySelector('#df-3874442e-1bc5-4bf0-a111-270d0f12be11 button');\n",
              "      quickchartButtonEl.style.display =\n",
              "        google.colab.kernel.accessAllowed ? 'block' : 'none';\n",
              "    })();\n",
              "  </script>\n",
              "</div>\n",
              "    </div>\n",
              "  </div>\n"
            ]
          },
          "metadata": {},
          "execution_count": 9
        }
      ]
    },
    {
      "cell_type": "markdown",
      "source": [
        "# Load CSV from Foogle Drive"
      ],
      "metadata": {
        "id": "NazA-TrJ1Z3B"
      }
    },
    {
      "cell_type": "code",
      "source": [
        "shopping_data = pd.read_csv('/content/drive/MyDrive/BSC_DPDM2023/customer_shopping_data.csv')"
      ],
      "metadata": {
        "id": "ks0wkUQU2I87"
      },
      "execution_count": 25,
      "outputs": []
    },
    {
      "cell_type": "code",
      "source": [
        "shopping_data.head()"
      ],
      "metadata": {
        "id": "-hScjlSv3JU-",
        "outputId": "87f17eb3-62ee-4a82-99d8-d494da2a81fa",
        "colab": {
          "base_uri": "https://localhost:8080/",
          "height": 206
        }
      },
      "execution_count": 26,
      "outputs": [
        {
          "output_type": "execute_result",
          "data": {
            "text/plain": [
              "  invoice_no customer_id  gender  age  category  quantity    price  \\\n",
              "0    I138884     C241288  Female   28  Clothing         5  1500.40   \n",
              "1    I317333     C111565    Male   21     Shoes         3  1800.51   \n",
              "2    I127801     C266599    Male   20  Clothing         1   300.08   \n",
              "3    I173702     C988172  Female   66     Shoes         5  3000.85   \n",
              "4    I337046     C189076  Female   53     Books         4    60.60   \n",
              "\n",
              "  payment_method invoice_date   shopping_mall  \n",
              "0    Credit Card     5/8/2022          Kanyon  \n",
              "1     Debit Card   12/12/2021  Forum Istanbul  \n",
              "2           Cash    9/11/2021       Metrocity  \n",
              "3    Credit Card   16/05/2021    Metropol AVM  \n",
              "4           Cash   24/10/2021          Kanyon  "
            ],
            "text/html": [
              "\n",
              "  <div id=\"df-72ea580c-f961-4e2a-9882-53eca8eb3029\" class=\"colab-df-container\">\n",
              "    <div>\n",
              "<style scoped>\n",
              "    .dataframe tbody tr th:only-of-type {\n",
              "        vertical-align: middle;\n",
              "    }\n",
              "\n",
              "    .dataframe tbody tr th {\n",
              "        vertical-align: top;\n",
              "    }\n",
              "\n",
              "    .dataframe thead th {\n",
              "        text-align: right;\n",
              "    }\n",
              "</style>\n",
              "<table border=\"1\" class=\"dataframe\">\n",
              "  <thead>\n",
              "    <tr style=\"text-align: right;\">\n",
              "      <th></th>\n",
              "      <th>invoice_no</th>\n",
              "      <th>customer_id</th>\n",
              "      <th>gender</th>\n",
              "      <th>age</th>\n",
              "      <th>category</th>\n",
              "      <th>quantity</th>\n",
              "      <th>price</th>\n",
              "      <th>payment_method</th>\n",
              "      <th>invoice_date</th>\n",
              "      <th>shopping_mall</th>\n",
              "    </tr>\n",
              "  </thead>\n",
              "  <tbody>\n",
              "    <tr>\n",
              "      <th>0</th>\n",
              "      <td>I138884</td>\n",
              "      <td>C241288</td>\n",
              "      <td>Female</td>\n",
              "      <td>28</td>\n",
              "      <td>Clothing</td>\n",
              "      <td>5</td>\n",
              "      <td>1500.40</td>\n",
              "      <td>Credit Card</td>\n",
              "      <td>5/8/2022</td>\n",
              "      <td>Kanyon</td>\n",
              "    </tr>\n",
              "    <tr>\n",
              "      <th>1</th>\n",
              "      <td>I317333</td>\n",
              "      <td>C111565</td>\n",
              "      <td>Male</td>\n",
              "      <td>21</td>\n",
              "      <td>Shoes</td>\n",
              "      <td>3</td>\n",
              "      <td>1800.51</td>\n",
              "      <td>Debit Card</td>\n",
              "      <td>12/12/2021</td>\n",
              "      <td>Forum Istanbul</td>\n",
              "    </tr>\n",
              "    <tr>\n",
              "      <th>2</th>\n",
              "      <td>I127801</td>\n",
              "      <td>C266599</td>\n",
              "      <td>Male</td>\n",
              "      <td>20</td>\n",
              "      <td>Clothing</td>\n",
              "      <td>1</td>\n",
              "      <td>300.08</td>\n",
              "      <td>Cash</td>\n",
              "      <td>9/11/2021</td>\n",
              "      <td>Metrocity</td>\n",
              "    </tr>\n",
              "    <tr>\n",
              "      <th>3</th>\n",
              "      <td>I173702</td>\n",
              "      <td>C988172</td>\n",
              "      <td>Female</td>\n",
              "      <td>66</td>\n",
              "      <td>Shoes</td>\n",
              "      <td>5</td>\n",
              "      <td>3000.85</td>\n",
              "      <td>Credit Card</td>\n",
              "      <td>16/05/2021</td>\n",
              "      <td>Metropol AVM</td>\n",
              "    </tr>\n",
              "    <tr>\n",
              "      <th>4</th>\n",
              "      <td>I337046</td>\n",
              "      <td>C189076</td>\n",
              "      <td>Female</td>\n",
              "      <td>53</td>\n",
              "      <td>Books</td>\n",
              "      <td>4</td>\n",
              "      <td>60.60</td>\n",
              "      <td>Cash</td>\n",
              "      <td>24/10/2021</td>\n",
              "      <td>Kanyon</td>\n",
              "    </tr>\n",
              "  </tbody>\n",
              "</table>\n",
              "</div>\n",
              "    <div class=\"colab-df-buttons\">\n",
              "\n",
              "  <div class=\"colab-df-container\">\n",
              "    <button class=\"colab-df-convert\" onclick=\"convertToInteractive('df-72ea580c-f961-4e2a-9882-53eca8eb3029')\"\n",
              "            title=\"Convert this dataframe to an interactive table.\"\n",
              "            style=\"display:none;\">\n",
              "\n",
              "  <svg xmlns=\"http://www.w3.org/2000/svg\" height=\"24px\" viewBox=\"0 -960 960 960\">\n",
              "    <path d=\"M120-120v-720h720v720H120Zm60-500h600v-160H180v160Zm220 220h160v-160H400v160Zm0 220h160v-160H400v160ZM180-400h160v-160H180v160Zm440 0h160v-160H620v160ZM180-180h160v-160H180v160Zm440 0h160v-160H620v160Z\"/>\n",
              "  </svg>\n",
              "    </button>\n",
              "\n",
              "  <style>\n",
              "    .colab-df-container {\n",
              "      display:flex;\n",
              "      gap: 12px;\n",
              "    }\n",
              "\n",
              "    .colab-df-convert {\n",
              "      background-color: #E8F0FE;\n",
              "      border: none;\n",
              "      border-radius: 50%;\n",
              "      cursor: pointer;\n",
              "      display: none;\n",
              "      fill: #1967D2;\n",
              "      height: 32px;\n",
              "      padding: 0 0 0 0;\n",
              "      width: 32px;\n",
              "    }\n",
              "\n",
              "    .colab-df-convert:hover {\n",
              "      background-color: #E2EBFA;\n",
              "      box-shadow: 0px 1px 2px rgba(60, 64, 67, 0.3), 0px 1px 3px 1px rgba(60, 64, 67, 0.15);\n",
              "      fill: #174EA6;\n",
              "    }\n",
              "\n",
              "    .colab-df-buttons div {\n",
              "      margin-bottom: 4px;\n",
              "    }\n",
              "\n",
              "    [theme=dark] .colab-df-convert {\n",
              "      background-color: #3B4455;\n",
              "      fill: #D2E3FC;\n",
              "    }\n",
              "\n",
              "    [theme=dark] .colab-df-convert:hover {\n",
              "      background-color: #434B5C;\n",
              "      box-shadow: 0px 1px 3px 1px rgba(0, 0, 0, 0.15);\n",
              "      filter: drop-shadow(0px 1px 2px rgba(0, 0, 0, 0.3));\n",
              "      fill: #FFFFFF;\n",
              "    }\n",
              "  </style>\n",
              "\n",
              "    <script>\n",
              "      const buttonEl =\n",
              "        document.querySelector('#df-72ea580c-f961-4e2a-9882-53eca8eb3029 button.colab-df-convert');\n",
              "      buttonEl.style.display =\n",
              "        google.colab.kernel.accessAllowed ? 'block' : 'none';\n",
              "\n",
              "      async function convertToInteractive(key) {\n",
              "        const element = document.querySelector('#df-72ea580c-f961-4e2a-9882-53eca8eb3029');\n",
              "        const dataTable =\n",
              "          await google.colab.kernel.invokeFunction('convertToInteractive',\n",
              "                                                    [key], {});\n",
              "        if (!dataTable) return;\n",
              "\n",
              "        const docLinkHtml = 'Like what you see? Visit the ' +\n",
              "          '<a target=\"_blank\" href=https://colab.research.google.com/notebooks/data_table.ipynb>data table notebook</a>'\n",
              "          + ' to learn more about interactive tables.';\n",
              "        element.innerHTML = '';\n",
              "        dataTable['output_type'] = 'display_data';\n",
              "        await google.colab.output.renderOutput(dataTable, element);\n",
              "        const docLink = document.createElement('div');\n",
              "        docLink.innerHTML = docLinkHtml;\n",
              "        element.appendChild(docLink);\n",
              "      }\n",
              "    </script>\n",
              "  </div>\n",
              "\n",
              "\n",
              "<div id=\"df-58a9f717-b374-44b2-bcdf-9579b333b828\">\n",
              "  <button class=\"colab-df-quickchart\" onclick=\"quickchart('df-58a9f717-b374-44b2-bcdf-9579b333b828')\"\n",
              "            title=\"Suggest charts\"\n",
              "            style=\"display:none;\">\n",
              "\n",
              "<svg xmlns=\"http://www.w3.org/2000/svg\" height=\"24px\"viewBox=\"0 0 24 24\"\n",
              "     width=\"24px\">\n",
              "    <g>\n",
              "        <path d=\"M19 3H5c-1.1 0-2 .9-2 2v14c0 1.1.9 2 2 2h14c1.1 0 2-.9 2-2V5c0-1.1-.9-2-2-2zM9 17H7v-7h2v7zm4 0h-2V7h2v10zm4 0h-2v-4h2v4z\"/>\n",
              "    </g>\n",
              "</svg>\n",
              "  </button>\n",
              "\n",
              "<style>\n",
              "  .colab-df-quickchart {\n",
              "      --bg-color: #E8F0FE;\n",
              "      --fill-color: #1967D2;\n",
              "      --hover-bg-color: #E2EBFA;\n",
              "      --hover-fill-color: #174EA6;\n",
              "      --disabled-fill-color: #AAA;\n",
              "      --disabled-bg-color: #DDD;\n",
              "  }\n",
              "\n",
              "  [theme=dark] .colab-df-quickchart {\n",
              "      --bg-color: #3B4455;\n",
              "      --fill-color: #D2E3FC;\n",
              "      --hover-bg-color: #434B5C;\n",
              "      --hover-fill-color: #FFFFFF;\n",
              "      --disabled-bg-color: #3B4455;\n",
              "      --disabled-fill-color: #666;\n",
              "  }\n",
              "\n",
              "  .colab-df-quickchart {\n",
              "    background-color: var(--bg-color);\n",
              "    border: none;\n",
              "    border-radius: 50%;\n",
              "    cursor: pointer;\n",
              "    display: none;\n",
              "    fill: var(--fill-color);\n",
              "    height: 32px;\n",
              "    padding: 0;\n",
              "    width: 32px;\n",
              "  }\n",
              "\n",
              "  .colab-df-quickchart:hover {\n",
              "    background-color: var(--hover-bg-color);\n",
              "    box-shadow: 0 1px 2px rgba(60, 64, 67, 0.3), 0 1px 3px 1px rgba(60, 64, 67, 0.15);\n",
              "    fill: var(--button-hover-fill-color);\n",
              "  }\n",
              "\n",
              "  .colab-df-quickchart-complete:disabled,\n",
              "  .colab-df-quickchart-complete:disabled:hover {\n",
              "    background-color: var(--disabled-bg-color);\n",
              "    fill: var(--disabled-fill-color);\n",
              "    box-shadow: none;\n",
              "  }\n",
              "\n",
              "  .colab-df-spinner {\n",
              "    border: 2px solid var(--fill-color);\n",
              "    border-color: transparent;\n",
              "    border-bottom-color: var(--fill-color);\n",
              "    animation:\n",
              "      spin 1s steps(1) infinite;\n",
              "  }\n",
              "\n",
              "  @keyframes spin {\n",
              "    0% {\n",
              "      border-color: transparent;\n",
              "      border-bottom-color: var(--fill-color);\n",
              "      border-left-color: var(--fill-color);\n",
              "    }\n",
              "    20% {\n",
              "      border-color: transparent;\n",
              "      border-left-color: var(--fill-color);\n",
              "      border-top-color: var(--fill-color);\n",
              "    }\n",
              "    30% {\n",
              "      border-color: transparent;\n",
              "      border-left-color: var(--fill-color);\n",
              "      border-top-color: var(--fill-color);\n",
              "      border-right-color: var(--fill-color);\n",
              "    }\n",
              "    40% {\n",
              "      border-color: transparent;\n",
              "      border-right-color: var(--fill-color);\n",
              "      border-top-color: var(--fill-color);\n",
              "    }\n",
              "    60% {\n",
              "      border-color: transparent;\n",
              "      border-right-color: var(--fill-color);\n",
              "    }\n",
              "    80% {\n",
              "      border-color: transparent;\n",
              "      border-right-color: var(--fill-color);\n",
              "      border-bottom-color: var(--fill-color);\n",
              "    }\n",
              "    90% {\n",
              "      border-color: transparent;\n",
              "      border-bottom-color: var(--fill-color);\n",
              "    }\n",
              "  }\n",
              "</style>\n",
              "\n",
              "  <script>\n",
              "    async function quickchart(key) {\n",
              "      const quickchartButtonEl =\n",
              "        document.querySelector('#' + key + ' button');\n",
              "      quickchartButtonEl.disabled = true;  // To prevent multiple clicks.\n",
              "      quickchartButtonEl.classList.add('colab-df-spinner');\n",
              "      try {\n",
              "        const charts = await google.colab.kernel.invokeFunction(\n",
              "            'suggestCharts', [key], {});\n",
              "      } catch (error) {\n",
              "        console.error('Error during call to suggestCharts:', error);\n",
              "      }\n",
              "      quickchartButtonEl.classList.remove('colab-df-spinner');\n",
              "      quickchartButtonEl.classList.add('colab-df-quickchart-complete');\n",
              "    }\n",
              "    (() => {\n",
              "      let quickchartButtonEl =\n",
              "        document.querySelector('#df-58a9f717-b374-44b2-bcdf-9579b333b828 button');\n",
              "      quickchartButtonEl.style.display =\n",
              "        google.colab.kernel.accessAllowed ? 'block' : 'none';\n",
              "    })();\n",
              "  </script>\n",
              "</div>\n",
              "    </div>\n",
              "  </div>\n"
            ]
          },
          "metadata": {},
          "execution_count": 26
        }
      ]
    },
    {
      "cell_type": "markdown",
      "source": [
        "# Basic stats"
      ],
      "metadata": {
        "id": "pJaweFhgBmNn"
      }
    },
    {
      "cell_type": "code",
      "source": [
        "shopping_data.describe()"
      ],
      "metadata": {
        "id": "VvSgtlwg3KhC",
        "outputId": "9cbc610d-ffbe-44d3-b56c-b0c6e876f008",
        "colab": {
          "base_uri": "https://localhost:8080/",
          "height": 300
        }
      },
      "execution_count": 27,
      "outputs": [
        {
          "output_type": "execute_result",
          "data": {
            "text/plain": [
              "                age      quantity         price\n",
              "count  99457.000000  99457.000000  99457.000000\n",
              "mean      43.427089      3.003429    689.256321\n",
              "std       14.990054      1.413025    941.184567\n",
              "min       18.000000      1.000000      5.230000\n",
              "25%       30.000000      2.000000     45.450000\n",
              "50%       43.000000      3.000000    203.300000\n",
              "75%       56.000000      4.000000   1200.320000\n",
              "max       69.000000      5.000000   5250.000000"
            ],
            "text/html": [
              "\n",
              "  <div id=\"df-340be36d-ae8d-41c7-826f-163539e30153\" class=\"colab-df-container\">\n",
              "    <div>\n",
              "<style scoped>\n",
              "    .dataframe tbody tr th:only-of-type {\n",
              "        vertical-align: middle;\n",
              "    }\n",
              "\n",
              "    .dataframe tbody tr th {\n",
              "        vertical-align: top;\n",
              "    }\n",
              "\n",
              "    .dataframe thead th {\n",
              "        text-align: right;\n",
              "    }\n",
              "</style>\n",
              "<table border=\"1\" class=\"dataframe\">\n",
              "  <thead>\n",
              "    <tr style=\"text-align: right;\">\n",
              "      <th></th>\n",
              "      <th>age</th>\n",
              "      <th>quantity</th>\n",
              "      <th>price</th>\n",
              "    </tr>\n",
              "  </thead>\n",
              "  <tbody>\n",
              "    <tr>\n",
              "      <th>count</th>\n",
              "      <td>99457.000000</td>\n",
              "      <td>99457.000000</td>\n",
              "      <td>99457.000000</td>\n",
              "    </tr>\n",
              "    <tr>\n",
              "      <th>mean</th>\n",
              "      <td>43.427089</td>\n",
              "      <td>3.003429</td>\n",
              "      <td>689.256321</td>\n",
              "    </tr>\n",
              "    <tr>\n",
              "      <th>std</th>\n",
              "      <td>14.990054</td>\n",
              "      <td>1.413025</td>\n",
              "      <td>941.184567</td>\n",
              "    </tr>\n",
              "    <tr>\n",
              "      <th>min</th>\n",
              "      <td>18.000000</td>\n",
              "      <td>1.000000</td>\n",
              "      <td>5.230000</td>\n",
              "    </tr>\n",
              "    <tr>\n",
              "      <th>25%</th>\n",
              "      <td>30.000000</td>\n",
              "      <td>2.000000</td>\n",
              "      <td>45.450000</td>\n",
              "    </tr>\n",
              "    <tr>\n",
              "      <th>50%</th>\n",
              "      <td>43.000000</td>\n",
              "      <td>3.000000</td>\n",
              "      <td>203.300000</td>\n",
              "    </tr>\n",
              "    <tr>\n",
              "      <th>75%</th>\n",
              "      <td>56.000000</td>\n",
              "      <td>4.000000</td>\n",
              "      <td>1200.320000</td>\n",
              "    </tr>\n",
              "    <tr>\n",
              "      <th>max</th>\n",
              "      <td>69.000000</td>\n",
              "      <td>5.000000</td>\n",
              "      <td>5250.000000</td>\n",
              "    </tr>\n",
              "  </tbody>\n",
              "</table>\n",
              "</div>\n",
              "    <div class=\"colab-df-buttons\">\n",
              "\n",
              "  <div class=\"colab-df-container\">\n",
              "    <button class=\"colab-df-convert\" onclick=\"convertToInteractive('df-340be36d-ae8d-41c7-826f-163539e30153')\"\n",
              "            title=\"Convert this dataframe to an interactive table.\"\n",
              "            style=\"display:none;\">\n",
              "\n",
              "  <svg xmlns=\"http://www.w3.org/2000/svg\" height=\"24px\" viewBox=\"0 -960 960 960\">\n",
              "    <path d=\"M120-120v-720h720v720H120Zm60-500h600v-160H180v160Zm220 220h160v-160H400v160Zm0 220h160v-160H400v160ZM180-400h160v-160H180v160Zm440 0h160v-160H620v160ZM180-180h160v-160H180v160Zm440 0h160v-160H620v160Z\"/>\n",
              "  </svg>\n",
              "    </button>\n",
              "\n",
              "  <style>\n",
              "    .colab-df-container {\n",
              "      display:flex;\n",
              "      gap: 12px;\n",
              "    }\n",
              "\n",
              "    .colab-df-convert {\n",
              "      background-color: #E8F0FE;\n",
              "      border: none;\n",
              "      border-radius: 50%;\n",
              "      cursor: pointer;\n",
              "      display: none;\n",
              "      fill: #1967D2;\n",
              "      height: 32px;\n",
              "      padding: 0 0 0 0;\n",
              "      width: 32px;\n",
              "    }\n",
              "\n",
              "    .colab-df-convert:hover {\n",
              "      background-color: #E2EBFA;\n",
              "      box-shadow: 0px 1px 2px rgba(60, 64, 67, 0.3), 0px 1px 3px 1px rgba(60, 64, 67, 0.15);\n",
              "      fill: #174EA6;\n",
              "    }\n",
              "\n",
              "    .colab-df-buttons div {\n",
              "      margin-bottom: 4px;\n",
              "    }\n",
              "\n",
              "    [theme=dark] .colab-df-convert {\n",
              "      background-color: #3B4455;\n",
              "      fill: #D2E3FC;\n",
              "    }\n",
              "\n",
              "    [theme=dark] .colab-df-convert:hover {\n",
              "      background-color: #434B5C;\n",
              "      box-shadow: 0px 1px 3px 1px rgba(0, 0, 0, 0.15);\n",
              "      filter: drop-shadow(0px 1px 2px rgba(0, 0, 0, 0.3));\n",
              "      fill: #FFFFFF;\n",
              "    }\n",
              "  </style>\n",
              "\n",
              "    <script>\n",
              "      const buttonEl =\n",
              "        document.querySelector('#df-340be36d-ae8d-41c7-826f-163539e30153 button.colab-df-convert');\n",
              "      buttonEl.style.display =\n",
              "        google.colab.kernel.accessAllowed ? 'block' : 'none';\n",
              "\n",
              "      async function convertToInteractive(key) {\n",
              "        const element = document.querySelector('#df-340be36d-ae8d-41c7-826f-163539e30153');\n",
              "        const dataTable =\n",
              "          await google.colab.kernel.invokeFunction('convertToInteractive',\n",
              "                                                    [key], {});\n",
              "        if (!dataTable) return;\n",
              "\n",
              "        const docLinkHtml = 'Like what you see? Visit the ' +\n",
              "          '<a target=\"_blank\" href=https://colab.research.google.com/notebooks/data_table.ipynb>data table notebook</a>'\n",
              "          + ' to learn more about interactive tables.';\n",
              "        element.innerHTML = '';\n",
              "        dataTable['output_type'] = 'display_data';\n",
              "        await google.colab.output.renderOutput(dataTable, element);\n",
              "        const docLink = document.createElement('div');\n",
              "        docLink.innerHTML = docLinkHtml;\n",
              "        element.appendChild(docLink);\n",
              "      }\n",
              "    </script>\n",
              "  </div>\n",
              "\n",
              "\n",
              "<div id=\"df-9906dc60-183d-47b0-aa10-e4ca5b2c0c6a\">\n",
              "  <button class=\"colab-df-quickchart\" onclick=\"quickchart('df-9906dc60-183d-47b0-aa10-e4ca5b2c0c6a')\"\n",
              "            title=\"Suggest charts\"\n",
              "            style=\"display:none;\">\n",
              "\n",
              "<svg xmlns=\"http://www.w3.org/2000/svg\" height=\"24px\"viewBox=\"0 0 24 24\"\n",
              "     width=\"24px\">\n",
              "    <g>\n",
              "        <path d=\"M19 3H5c-1.1 0-2 .9-2 2v14c0 1.1.9 2 2 2h14c1.1 0 2-.9 2-2V5c0-1.1-.9-2-2-2zM9 17H7v-7h2v7zm4 0h-2V7h2v10zm4 0h-2v-4h2v4z\"/>\n",
              "    </g>\n",
              "</svg>\n",
              "  </button>\n",
              "\n",
              "<style>\n",
              "  .colab-df-quickchart {\n",
              "      --bg-color: #E8F0FE;\n",
              "      --fill-color: #1967D2;\n",
              "      --hover-bg-color: #E2EBFA;\n",
              "      --hover-fill-color: #174EA6;\n",
              "      --disabled-fill-color: #AAA;\n",
              "      --disabled-bg-color: #DDD;\n",
              "  }\n",
              "\n",
              "  [theme=dark] .colab-df-quickchart {\n",
              "      --bg-color: #3B4455;\n",
              "      --fill-color: #D2E3FC;\n",
              "      --hover-bg-color: #434B5C;\n",
              "      --hover-fill-color: #FFFFFF;\n",
              "      --disabled-bg-color: #3B4455;\n",
              "      --disabled-fill-color: #666;\n",
              "  }\n",
              "\n",
              "  .colab-df-quickchart {\n",
              "    background-color: var(--bg-color);\n",
              "    border: none;\n",
              "    border-radius: 50%;\n",
              "    cursor: pointer;\n",
              "    display: none;\n",
              "    fill: var(--fill-color);\n",
              "    height: 32px;\n",
              "    padding: 0;\n",
              "    width: 32px;\n",
              "  }\n",
              "\n",
              "  .colab-df-quickchart:hover {\n",
              "    background-color: var(--hover-bg-color);\n",
              "    box-shadow: 0 1px 2px rgba(60, 64, 67, 0.3), 0 1px 3px 1px rgba(60, 64, 67, 0.15);\n",
              "    fill: var(--button-hover-fill-color);\n",
              "  }\n",
              "\n",
              "  .colab-df-quickchart-complete:disabled,\n",
              "  .colab-df-quickchart-complete:disabled:hover {\n",
              "    background-color: var(--disabled-bg-color);\n",
              "    fill: var(--disabled-fill-color);\n",
              "    box-shadow: none;\n",
              "  }\n",
              "\n",
              "  .colab-df-spinner {\n",
              "    border: 2px solid var(--fill-color);\n",
              "    border-color: transparent;\n",
              "    border-bottom-color: var(--fill-color);\n",
              "    animation:\n",
              "      spin 1s steps(1) infinite;\n",
              "  }\n",
              "\n",
              "  @keyframes spin {\n",
              "    0% {\n",
              "      border-color: transparent;\n",
              "      border-bottom-color: var(--fill-color);\n",
              "      border-left-color: var(--fill-color);\n",
              "    }\n",
              "    20% {\n",
              "      border-color: transparent;\n",
              "      border-left-color: var(--fill-color);\n",
              "      border-top-color: var(--fill-color);\n",
              "    }\n",
              "    30% {\n",
              "      border-color: transparent;\n",
              "      border-left-color: var(--fill-color);\n",
              "      border-top-color: var(--fill-color);\n",
              "      border-right-color: var(--fill-color);\n",
              "    }\n",
              "    40% {\n",
              "      border-color: transparent;\n",
              "      border-right-color: var(--fill-color);\n",
              "      border-top-color: var(--fill-color);\n",
              "    }\n",
              "    60% {\n",
              "      border-color: transparent;\n",
              "      border-right-color: var(--fill-color);\n",
              "    }\n",
              "    80% {\n",
              "      border-color: transparent;\n",
              "      border-right-color: var(--fill-color);\n",
              "      border-bottom-color: var(--fill-color);\n",
              "    }\n",
              "    90% {\n",
              "      border-color: transparent;\n",
              "      border-bottom-color: var(--fill-color);\n",
              "    }\n",
              "  }\n",
              "</style>\n",
              "\n",
              "  <script>\n",
              "    async function quickchart(key) {\n",
              "      const quickchartButtonEl =\n",
              "        document.querySelector('#' + key + ' button');\n",
              "      quickchartButtonEl.disabled = true;  // To prevent multiple clicks.\n",
              "      quickchartButtonEl.classList.add('colab-df-spinner');\n",
              "      try {\n",
              "        const charts = await google.colab.kernel.invokeFunction(\n",
              "            'suggestCharts', [key], {});\n",
              "      } catch (error) {\n",
              "        console.error('Error during call to suggestCharts:', error);\n",
              "      }\n",
              "      quickchartButtonEl.classList.remove('colab-df-spinner');\n",
              "      quickchartButtonEl.classList.add('colab-df-quickchart-complete');\n",
              "    }\n",
              "    (() => {\n",
              "      let quickchartButtonEl =\n",
              "        document.querySelector('#df-9906dc60-183d-47b0-aa10-e4ca5b2c0c6a button');\n",
              "      quickchartButtonEl.style.display =\n",
              "        google.colab.kernel.accessAllowed ? 'block' : 'none';\n",
              "    })();\n",
              "  </script>\n",
              "</div>\n",
              "    </div>\n",
              "  </div>\n"
            ]
          },
          "metadata": {},
          "execution_count": 27
        }
      ]
    },
    {
      "cell_type": "markdown",
      "source": [
        "#### How many payment methods?"
      ],
      "metadata": {
        "id": "mL4tkEfm3zlh"
      }
    },
    {
      "cell_type": "code",
      "source": [
        "shopping_data['payment_method'].unique()"
      ],
      "metadata": {
        "id": "f9x8uOml5QgW",
        "outputId": "b5f55019-63f1-4f5b-9c68-3090236e68a4",
        "colab": {
          "base_uri": "https://localhost:8080/"
        }
      },
      "execution_count": 30,
      "outputs": [
        {
          "output_type": "execute_result",
          "data": {
            "text/plain": [
              "array(['Credit Card', 'Debit Card', 'Cash'], dtype=object)"
            ]
          },
          "metadata": {},
          "execution_count": 30
        }
      ]
    },
    {
      "cell_type": "code",
      "source": [
        "set(shopping_data['payment_method'])"
      ],
      "metadata": {
        "id": "1LnmozII3855",
        "outputId": "57ec320c-8fd0-454e-8a92-b04b989be0a2",
        "colab": {
          "base_uri": "https://localhost:8080/"
        }
      },
      "execution_count": 34,
      "outputs": [
        {
          "output_type": "execute_result",
          "data": {
            "text/plain": [
              "{'Cash', 'Credit Card', 'Debit Card'}"
            ]
          },
          "metadata": {},
          "execution_count": 34
        }
      ]
    },
    {
      "cell_type": "code",
      "source": [
        "shopping_data.value_counts('Payment Method')"
      ],
      "metadata": {
        "id": "cHBul65V5i_C",
        "outputId": "cbd81b09-b269-49e1-b868-f29f0cd5659e",
        "colab": {
          "base_uri": "https://localhost:8080/"
        }
      },
      "execution_count": 17,
      "outputs": [
        {
          "output_type": "execute_result",
          "data": {
            "text/plain": [
              "Payment Method\n",
              "PayPal           677\n",
              "Credit Card      671\n",
              "Cash             670\n",
              "Debit Card       636\n",
              "Venmo            634\n",
              "Bank Transfer    612\n",
              "dtype: int64"
            ]
          },
          "metadata": {},
          "execution_count": 17
        }
      ]
    },
    {
      "cell_type": "code",
      "source": [
        "shopping_data.groupby('payment_method').count()"
      ],
      "metadata": {
        "id": "7GCG4DFh5yeE",
        "outputId": "37cf4bcc-0515-4058-fdd7-49ab0f1615b4",
        "colab": {
          "base_uri": "https://localhost:8080/",
          "height": 175
        }
      },
      "execution_count": 35,
      "outputs": [
        {
          "output_type": "execute_result",
          "data": {
            "text/plain": [
              "                invoice_no  customer_id  gender    age  category  quantity  \\\n",
              "payment_method                                                               \n",
              "Cash                 44447        44447   44447  44447     44447     44447   \n",
              "Credit Card          34931        34931   34931  34931     34931     34931   \n",
              "Debit Card           20079        20079   20079  20079     20079     20079   \n",
              "\n",
              "                price  invoice_date  shopping_mall  \n",
              "payment_method                                      \n",
              "Cash            44447         44447          44447  \n",
              "Credit Card     34931         34931          34931  \n",
              "Debit Card      20079         20079          20079  "
            ],
            "text/html": [
              "\n",
              "  <div id=\"df-bc31dfe4-1a6a-4273-acf8-54fd0496a3ce\" class=\"colab-df-container\">\n",
              "    <div>\n",
              "<style scoped>\n",
              "    .dataframe tbody tr th:only-of-type {\n",
              "        vertical-align: middle;\n",
              "    }\n",
              "\n",
              "    .dataframe tbody tr th {\n",
              "        vertical-align: top;\n",
              "    }\n",
              "\n",
              "    .dataframe thead th {\n",
              "        text-align: right;\n",
              "    }\n",
              "</style>\n",
              "<table border=\"1\" class=\"dataframe\">\n",
              "  <thead>\n",
              "    <tr style=\"text-align: right;\">\n",
              "      <th></th>\n",
              "      <th>invoice_no</th>\n",
              "      <th>customer_id</th>\n",
              "      <th>gender</th>\n",
              "      <th>age</th>\n",
              "      <th>category</th>\n",
              "      <th>quantity</th>\n",
              "      <th>price</th>\n",
              "      <th>invoice_date</th>\n",
              "      <th>shopping_mall</th>\n",
              "    </tr>\n",
              "    <tr>\n",
              "      <th>payment_method</th>\n",
              "      <th></th>\n",
              "      <th></th>\n",
              "      <th></th>\n",
              "      <th></th>\n",
              "      <th></th>\n",
              "      <th></th>\n",
              "      <th></th>\n",
              "      <th></th>\n",
              "      <th></th>\n",
              "    </tr>\n",
              "  </thead>\n",
              "  <tbody>\n",
              "    <tr>\n",
              "      <th>Cash</th>\n",
              "      <td>44447</td>\n",
              "      <td>44447</td>\n",
              "      <td>44447</td>\n",
              "      <td>44447</td>\n",
              "      <td>44447</td>\n",
              "      <td>44447</td>\n",
              "      <td>44447</td>\n",
              "      <td>44447</td>\n",
              "      <td>44447</td>\n",
              "    </tr>\n",
              "    <tr>\n",
              "      <th>Credit Card</th>\n",
              "      <td>34931</td>\n",
              "      <td>34931</td>\n",
              "      <td>34931</td>\n",
              "      <td>34931</td>\n",
              "      <td>34931</td>\n",
              "      <td>34931</td>\n",
              "      <td>34931</td>\n",
              "      <td>34931</td>\n",
              "      <td>34931</td>\n",
              "    </tr>\n",
              "    <tr>\n",
              "      <th>Debit Card</th>\n",
              "      <td>20079</td>\n",
              "      <td>20079</td>\n",
              "      <td>20079</td>\n",
              "      <td>20079</td>\n",
              "      <td>20079</td>\n",
              "      <td>20079</td>\n",
              "      <td>20079</td>\n",
              "      <td>20079</td>\n",
              "      <td>20079</td>\n",
              "    </tr>\n",
              "  </tbody>\n",
              "</table>\n",
              "</div>\n",
              "    <div class=\"colab-df-buttons\">\n",
              "\n",
              "  <div class=\"colab-df-container\">\n",
              "    <button class=\"colab-df-convert\" onclick=\"convertToInteractive('df-bc31dfe4-1a6a-4273-acf8-54fd0496a3ce')\"\n",
              "            title=\"Convert this dataframe to an interactive table.\"\n",
              "            style=\"display:none;\">\n",
              "\n",
              "  <svg xmlns=\"http://www.w3.org/2000/svg\" height=\"24px\" viewBox=\"0 -960 960 960\">\n",
              "    <path d=\"M120-120v-720h720v720H120Zm60-500h600v-160H180v160Zm220 220h160v-160H400v160Zm0 220h160v-160H400v160ZM180-400h160v-160H180v160Zm440 0h160v-160H620v160ZM180-180h160v-160H180v160Zm440 0h160v-160H620v160Z\"/>\n",
              "  </svg>\n",
              "    </button>\n",
              "\n",
              "  <style>\n",
              "    .colab-df-container {\n",
              "      display:flex;\n",
              "      gap: 12px;\n",
              "    }\n",
              "\n",
              "    .colab-df-convert {\n",
              "      background-color: #E8F0FE;\n",
              "      border: none;\n",
              "      border-radius: 50%;\n",
              "      cursor: pointer;\n",
              "      display: none;\n",
              "      fill: #1967D2;\n",
              "      height: 32px;\n",
              "      padding: 0 0 0 0;\n",
              "      width: 32px;\n",
              "    }\n",
              "\n",
              "    .colab-df-convert:hover {\n",
              "      background-color: #E2EBFA;\n",
              "      box-shadow: 0px 1px 2px rgba(60, 64, 67, 0.3), 0px 1px 3px 1px rgba(60, 64, 67, 0.15);\n",
              "      fill: #174EA6;\n",
              "    }\n",
              "\n",
              "    .colab-df-buttons div {\n",
              "      margin-bottom: 4px;\n",
              "    }\n",
              "\n",
              "    [theme=dark] .colab-df-convert {\n",
              "      background-color: #3B4455;\n",
              "      fill: #D2E3FC;\n",
              "    }\n",
              "\n",
              "    [theme=dark] .colab-df-convert:hover {\n",
              "      background-color: #434B5C;\n",
              "      box-shadow: 0px 1px 3px 1px rgba(0, 0, 0, 0.15);\n",
              "      filter: drop-shadow(0px 1px 2px rgba(0, 0, 0, 0.3));\n",
              "      fill: #FFFFFF;\n",
              "    }\n",
              "  </style>\n",
              "\n",
              "    <script>\n",
              "      const buttonEl =\n",
              "        document.querySelector('#df-bc31dfe4-1a6a-4273-acf8-54fd0496a3ce button.colab-df-convert');\n",
              "      buttonEl.style.display =\n",
              "        google.colab.kernel.accessAllowed ? 'block' : 'none';\n",
              "\n",
              "      async function convertToInteractive(key) {\n",
              "        const element = document.querySelector('#df-bc31dfe4-1a6a-4273-acf8-54fd0496a3ce');\n",
              "        const dataTable =\n",
              "          await google.colab.kernel.invokeFunction('convertToInteractive',\n",
              "                                                    [key], {});\n",
              "        if (!dataTable) return;\n",
              "\n",
              "        const docLinkHtml = 'Like what you see? Visit the ' +\n",
              "          '<a target=\"_blank\" href=https://colab.research.google.com/notebooks/data_table.ipynb>data table notebook</a>'\n",
              "          + ' to learn more about interactive tables.';\n",
              "        element.innerHTML = '';\n",
              "        dataTable['output_type'] = 'display_data';\n",
              "        await google.colab.output.renderOutput(dataTable, element);\n",
              "        const docLink = document.createElement('div');\n",
              "        docLink.innerHTML = docLinkHtml;\n",
              "        element.appendChild(docLink);\n",
              "      }\n",
              "    </script>\n",
              "  </div>\n",
              "\n",
              "\n",
              "<div id=\"df-da3b8036-9188-4d4d-8491-258f21b438b1\">\n",
              "  <button class=\"colab-df-quickchart\" onclick=\"quickchart('df-da3b8036-9188-4d4d-8491-258f21b438b1')\"\n",
              "            title=\"Suggest charts\"\n",
              "            style=\"display:none;\">\n",
              "\n",
              "<svg xmlns=\"http://www.w3.org/2000/svg\" height=\"24px\"viewBox=\"0 0 24 24\"\n",
              "     width=\"24px\">\n",
              "    <g>\n",
              "        <path d=\"M19 3H5c-1.1 0-2 .9-2 2v14c0 1.1.9 2 2 2h14c1.1 0 2-.9 2-2V5c0-1.1-.9-2-2-2zM9 17H7v-7h2v7zm4 0h-2V7h2v10zm4 0h-2v-4h2v4z\"/>\n",
              "    </g>\n",
              "</svg>\n",
              "  </button>\n",
              "\n",
              "<style>\n",
              "  .colab-df-quickchart {\n",
              "      --bg-color: #E8F0FE;\n",
              "      --fill-color: #1967D2;\n",
              "      --hover-bg-color: #E2EBFA;\n",
              "      --hover-fill-color: #174EA6;\n",
              "      --disabled-fill-color: #AAA;\n",
              "      --disabled-bg-color: #DDD;\n",
              "  }\n",
              "\n",
              "  [theme=dark] .colab-df-quickchart {\n",
              "      --bg-color: #3B4455;\n",
              "      --fill-color: #D2E3FC;\n",
              "      --hover-bg-color: #434B5C;\n",
              "      --hover-fill-color: #FFFFFF;\n",
              "      --disabled-bg-color: #3B4455;\n",
              "      --disabled-fill-color: #666;\n",
              "  }\n",
              "\n",
              "  .colab-df-quickchart {\n",
              "    background-color: var(--bg-color);\n",
              "    border: none;\n",
              "    border-radius: 50%;\n",
              "    cursor: pointer;\n",
              "    display: none;\n",
              "    fill: var(--fill-color);\n",
              "    height: 32px;\n",
              "    padding: 0;\n",
              "    width: 32px;\n",
              "  }\n",
              "\n",
              "  .colab-df-quickchart:hover {\n",
              "    background-color: var(--hover-bg-color);\n",
              "    box-shadow: 0 1px 2px rgba(60, 64, 67, 0.3), 0 1px 3px 1px rgba(60, 64, 67, 0.15);\n",
              "    fill: var(--button-hover-fill-color);\n",
              "  }\n",
              "\n",
              "  .colab-df-quickchart-complete:disabled,\n",
              "  .colab-df-quickchart-complete:disabled:hover {\n",
              "    background-color: var(--disabled-bg-color);\n",
              "    fill: var(--disabled-fill-color);\n",
              "    box-shadow: none;\n",
              "  }\n",
              "\n",
              "  .colab-df-spinner {\n",
              "    border: 2px solid var(--fill-color);\n",
              "    border-color: transparent;\n",
              "    border-bottom-color: var(--fill-color);\n",
              "    animation:\n",
              "      spin 1s steps(1) infinite;\n",
              "  }\n",
              "\n",
              "  @keyframes spin {\n",
              "    0% {\n",
              "      border-color: transparent;\n",
              "      border-bottom-color: var(--fill-color);\n",
              "      border-left-color: var(--fill-color);\n",
              "    }\n",
              "    20% {\n",
              "      border-color: transparent;\n",
              "      border-left-color: var(--fill-color);\n",
              "      border-top-color: var(--fill-color);\n",
              "    }\n",
              "    30% {\n",
              "      border-color: transparent;\n",
              "      border-left-color: var(--fill-color);\n",
              "      border-top-color: var(--fill-color);\n",
              "      border-right-color: var(--fill-color);\n",
              "    }\n",
              "    40% {\n",
              "      border-color: transparent;\n",
              "      border-right-color: var(--fill-color);\n",
              "      border-top-color: var(--fill-color);\n",
              "    }\n",
              "    60% {\n",
              "      border-color: transparent;\n",
              "      border-right-color: var(--fill-color);\n",
              "    }\n",
              "    80% {\n",
              "      border-color: transparent;\n",
              "      border-right-color: var(--fill-color);\n",
              "      border-bottom-color: var(--fill-color);\n",
              "    }\n",
              "    90% {\n",
              "      border-color: transparent;\n",
              "      border-bottom-color: var(--fill-color);\n",
              "    }\n",
              "  }\n",
              "</style>\n",
              "\n",
              "  <script>\n",
              "    async function quickchart(key) {\n",
              "      const quickchartButtonEl =\n",
              "        document.querySelector('#' + key + ' button');\n",
              "      quickchartButtonEl.disabled = true;  // To prevent multiple clicks.\n",
              "      quickchartButtonEl.classList.add('colab-df-spinner');\n",
              "      try {\n",
              "        const charts = await google.colab.kernel.invokeFunction(\n",
              "            'suggestCharts', [key], {});\n",
              "      } catch (error) {\n",
              "        console.error('Error during call to suggestCharts:', error);\n",
              "      }\n",
              "      quickchartButtonEl.classList.remove('colab-df-spinner');\n",
              "      quickchartButtonEl.classList.add('colab-df-quickchart-complete');\n",
              "    }\n",
              "    (() => {\n",
              "      let quickchartButtonEl =\n",
              "        document.querySelector('#df-da3b8036-9188-4d4d-8491-258f21b438b1 button');\n",
              "      quickchartButtonEl.style.display =\n",
              "        google.colab.kernel.accessAllowed ? 'block' : 'none';\n",
              "    })();\n",
              "  </script>\n",
              "</div>\n",
              "    </div>\n",
              "  </div>\n"
            ]
          },
          "metadata": {},
          "execution_count": 35
        }
      ]
    },
    {
      "cell_type": "markdown",
      "source": [
        "#### Average Purchase Amount (USD) of customer age above 40 yr?"
      ],
      "metadata": {
        "id": "P67t1tdl6E8R"
      }
    },
    {
      "cell_type": "code",
      "source": [
        "shopping_data[shopping_data['age']> 40].mean()"
      ],
      "metadata": {
        "id": "UX0Tzfxm6a7X",
        "outputId": "70d7e8ff-f75d-4090-cc25-f9c649342086",
        "colab": {
          "base_uri": "https://localhost:8080/"
        }
      },
      "execution_count": 36,
      "outputs": [
        {
          "output_type": "stream",
          "name": "stderr",
          "text": [
            "<ipython-input-36-cb9b07cd6364>:1: FutureWarning: The default value of numeric_only in DataFrame.mean is deprecated. In a future version, it will default to False. In addition, specifying 'numeric_only=None' is deprecated. Select only valid columns or specify the value of numeric_only to silence this warning.\n",
            "  shopping_data[shopping_data['age']> 40].mean()\n"
          ]
        },
        {
          "output_type": "execute_result",
          "data": {
            "text/plain": [
              "age          54.976743\n",
              "quantity      3.003426\n",
              "price       690.853136\n",
              "dtype: float64"
            ]
          },
          "metadata": {},
          "execution_count": 36
        }
      ]
    },
    {
      "cell_type": "markdown",
      "source": [
        "ค่าเฉลี่ยของจำนวนเงินที่ใช้ในอายุ 40 ปี คือ 59.572226 เมื่อเทียบกับกลุ่มอื่น ค่าอยู่ในช่วงน้อย-ปานกลาง"
      ],
      "metadata": {
        "id": "Cb1qGh3f7CGY"
      }
    },
    {
      "cell_type": "markdown",
      "source": [
        "# Visualization"
      ],
      "metadata": {
        "id": "xihXXZyHBrhd"
      }
    },
    {
      "cell_type": "code",
      "source": [
        "from matplotlib import pyplot as plt"
      ],
      "metadata": {
        "id": "oFLvIlyd7cuG"
      },
      "execution_count": 37,
      "outputs": []
    },
    {
      "cell_type": "markdown",
      "source": [
        "# Histogram"
      ],
      "metadata": {
        "id": "IY9WeCfN7pqH"
      }
    },
    {
      "cell_type": "code",
      "source": [
        "plt.hist(shopping_data['shopping_mall'])\n",
        "plt.xticks(rotation = 'vertical')"
      ],
      "metadata": {
        "id": "60iZzepo7taY",
        "outputId": "6dfde79a-2d5d-4f7b-c6d3-9ec072f794d6",
        "colab": {
          "base_uri": "https://localhost:8080/",
          "height": 738
        }
      },
      "execution_count": 42,
      "outputs": [
        {
          "output_type": "execute_result",
          "data": {
            "text/plain": [
              "([0, 1, 2, 3, 4, 5, 6, 7, 8, 9],\n",
              " [Text(0, 0, 'Kanyon'),\n",
              "  Text(1, 0, 'Forum Istanbul'),\n",
              "  Text(2, 0, 'Metrocity'),\n",
              "  Text(3, 0, 'Metropol AVM'),\n",
              "  Text(4, 0, 'Istinye Park'),\n",
              "  Text(5, 0, 'Mall of Istanbul'),\n",
              "  Text(6, 0, 'Emaar Square Mall'),\n",
              "  Text(7, 0, 'Cevahir AVM'),\n",
              "  Text(8, 0, 'Viaport Outlet'),\n",
              "  Text(9, 0, 'Zorlu Center')])"
            ]
          },
          "metadata": {},
          "execution_count": 42
        },
        {
          "output_type": "display_data",
          "data": {
            "text/plain": [
              "<Figure size 640x480 with 1 Axes>"
            ],
            "image/png": "[encoded data removed]"
          },
          "metadata": {}
        }
      ]
    },
    {
      "cell_type": "code",
      "source": [
        "histoutput = plt.hist(shopping_data['shopping_mall'])\n",
        "plt.xticks(rotation = 'vertical')"
      ],
      "metadata": {
        "id": "DM8CeKkY_oXX",
        "outputId": "1b34d812-ad83-437b-bdb0-d7b63686b93c",
        "colab": {
          "base_uri": "https://localhost:8080/",
          "height": 738
        }
      },
      "execution_count": 43,
      "outputs": [
        {
          "output_type": "execute_result",
          "data": {
            "text/plain": [
              "([0, 1, 2, 3, 4, 5, 6, 7, 8, 9],\n",
              " [Text(0, 0, 'Kanyon'),\n",
              "  Text(1, 0, 'Forum Istanbul'),\n",
              "  Text(2, 0, 'Metrocity'),\n",
              "  Text(3, 0, 'Metropol AVM'),\n",
              "  Text(4, 0, 'Istinye Park'),\n",
              "  Text(5, 0, 'Mall of Istanbul'),\n",
              "  Text(6, 0, 'Emaar Square Mall'),\n",
              "  Text(7, 0, 'Cevahir AVM'),\n",
              "  Text(8, 0, 'Viaport Outlet'),\n",
              "  Text(9, 0, 'Zorlu Center')])"
            ]
          },
          "metadata": {},
          "execution_count": 43
        },
        {
          "output_type": "display_data",
          "data": {
            "text/plain": [
              "<Figure size 640x480 with 1 Axes>"
            ],
            "image/png": "[encoded data removed]"
          },
          "metadata": {}
        }
      ]
    },
    {
      "cell_type": "code",
      "source": [
        "histoutput = plt.hist(shopping_data['shopping_mall'])\n",
        "tickhist = plt.xticks(rotation = 'vertical')"
      ],
      "metadata": {
        "id": "5W6DrOjWB5Gd",
        "outputId": "10e0e8b7-9fed-45f1-e0d4-9cec902f5ae1",
        "colab": {
          "base_uri": "https://localhost:8080/",
          "height": 547
        }
      },
      "execution_count": 45,
      "outputs": [
        {
          "output_type": "display_data",
          "data": {
            "text/plain": [
              "<Figure size 640x480 with 1 Axes>"
            ],
            "image/png": "[encoded data removed]"
          },
          "metadata": {}
        }
      ]
    },
    {
      "cell_type": "code",
      "source": [
        "histoutput[0]"
      ],
      "metadata": {
        "id": "FjuenYYnAFNJ",
        "outputId": "393672b4-4e2f-437d-8ab0-5dd5fa03209d",
        "colab": {
          "base_uri": "https://localhost:8080/"
        }
      },
      "execution_count": 44,
      "outputs": [
        {
          "output_type": "execute_result",
          "data": {
            "text/plain": [
              "array([19823.,  4947., 15011., 10161.,  9781., 19943.,  4811.,  4991.,\n",
              "        4914.,  5075.])"
            ]
          },
          "metadata": {},
          "execution_count": 44
        }
      ]
    },
    {
      "cell_type": "code",
      "source": [
        "tickhist[-1]"
      ],
      "metadata": {
        "id": "Cw-zJHd9AJ-5",
        "outputId": "9a761746-ee43-4147-caa8-786bc5b61827",
        "colab": {
          "base_uri": "https://localhost:8080/"
        }
      },
      "execution_count": 46,
      "outputs": [
        {
          "output_type": "execute_result",
          "data": {
            "text/plain": [
              "[Text(0, 0, 'Kanyon'),\n",
              " Text(1, 0, 'Forum Istanbul'),\n",
              " Text(2, 0, 'Metrocity'),\n",
              " Text(3, 0, 'Metropol AVM'),\n",
              " Text(4, 0, 'Istinye Park'),\n",
              " Text(5, 0, 'Mall of Istanbul'),\n",
              " Text(6, 0, 'Emaar Square Mall'),\n",
              " Text(7, 0, 'Cevahir AVM'),\n",
              " Text(8, 0, 'Viaport Outlet'),\n",
              " Text(9, 0, 'Zorlu Center')]"
            ]
          },
          "metadata": {},
          "execution_count": 46
        }
      ]
    },
    {
      "cell_type": "code",
      "source": [
        "tickhist[-1][0].get_text()"
      ],
      "metadata": {
        "id": "X6Ds2tVmCRr9",
        "outputId": "f8a39046-fff9-40ee-a9fb-68f6e458d593",
        "colab": {
          "base_uri": "https://localhost:8080/",
          "height": 36
        }
      },
      "execution_count": 47,
      "outputs": [
        {
          "output_type": "execute_result",
          "data": {
            "text/plain": [
              "'Kanyon'"
            ],
            "application/vnd.google.colaboratory.intrinsic+json": {
              "type": "string"
            }
          },
          "metadata": {},
          "execution_count": 47
        }
      ]
    },
    {
      "cell_type": "markdown",
      "source": [
        "# Scatter"
      ],
      "metadata": {
        "id": "eGEZq_TDC-jL"
      }
    },
    {
      "cell_type": "markdown",
      "source": [
        "#### Is there a trend in age vs price?"
      ],
      "metadata": {
        "id": "hF6AsOeQDNSq"
      }
    },
    {
      "cell_type": "code",
      "source": [
        "plt.scatter(shopping_data['age'],shopping_data['price'],alpha=0.5) # alpha ทำให้ค่าโปร่งใส ยิ่งใสมากยิ่งทำให้มองเห็น"
      ],
      "metadata": {
        "id": "26hCSqGYDBUx",
        "outputId": "b5560fb0-f51e-4271-b09f-261a65af542f",
        "colab": {
          "base_uri": "https://localhost:8080/",
          "height": 447
        }
      },
      "execution_count": 52,
      "outputs": [
        {
          "output_type": "execute_result",
          "data": {
            "text/plain": [
              "<matplotlib.collections.PathCollection at 0x7b3b2edee0e0>"
            ]
          },
          "metadata": {},
          "execution_count": 52
        },
        {
          "output_type": "display_data",
          "data": {
            "text/plain": [
              "<Figure size 640x480 with 1 Axes>"
            ],
            "image/png": "[encoded data removed]"
          },
          "metadata": {}
        }
      ]
    },
    {
      "cell_type": "markdown",
      "source": [
        "#### Is there a trend in age vs quantity?"
      ],
      "metadata": {
        "id": "C8fJDgXBEFsM"
      }
    },
    {
      "cell_type": "code",
      "source": [
        "plt.scatter(shopping_data['age'],shopping_data['quantity'],alpha=0.5)"
      ],
      "metadata": {
        "id": "n_K764alEban",
        "outputId": "84ea68f4-4ac7-47b4-b725-795b5c9c79ca",
        "colab": {
          "base_uri": "https://localhost:8080/",
          "height": 447
        }
      },
      "execution_count": 49,
      "outputs": [
        {
          "output_type": "execute_result",
          "data": {
            "text/plain": [
              "<matplotlib.collections.PathCollection at 0x7b3b2ef32ad0>"
            ]
          },
          "metadata": {},
          "execution_count": 49
        },
        {
          "output_type": "display_data",
          "data": {
            "text/plain": [
              "<Figure size 640x480 with 1 Axes>"
            ],
            "image/png": "[encoded data removed]"
          },
          "metadata": {}
        }
      ]
    },
    {
      "cell_type": "markdown",
      "source": [
        "#### Is there a trend in price vs quantity?"
      ],
      "metadata": {
        "id": "h-K5PtMVEUvI"
      }
    },
    {
      "cell_type": "code",
      "source": [
        "plt.scatter(shopping_data['price'],shopping_data['quantity'],alpha=0.1)"
      ],
      "metadata": {
        "id": "8G5aNfqTE4Wg",
        "outputId": "269f3973-6e01-44cc-b19e-df96d58ddf5c",
        "colab": {
          "base_uri": "https://localhost:8080/",
          "height": 447
        }
      },
      "execution_count": 54,
      "outputs": [
        {
          "output_type": "execute_result",
          "data": {
            "text/plain": [
              "<matplotlib.collections.PathCollection at 0x7b3b2ee5b4f0>"
            ]
          },
          "metadata": {},
          "execution_count": 54
        },
        {
          "output_type": "display_data",
          "data": {
            "text/plain": [
              "<Figure size 640x480 with 1 Axes>"
            ],
            "image/png": "[encoded data removed]"
          },
          "metadata": {}
        }
      ]
    },
    {
      "cell_type": "markdown",
      "source": [
        "ของที่ซื้อแค่ 1 ชิ้น ราคาจะอยู่ที่ 1000 ส่วนของที่ซื้อราคาแพงมักซื้อหลายชิ้น"
      ],
      "metadata": {
        "id": "aq9c3B0GFKno"
      }
    },
    {
      "cell_type": "markdown",
      "source": [
        "# Box Plot"
      ],
      "metadata": {
        "id": "WpNKQZG9FyRz"
      }
    },
    {
      "cell_type": "markdown",
      "source": [
        "#### Are there outliers in the price?"
      ],
      "metadata": {
        "id": "3cngOOJwF34n"
      }
    },
    {
      "cell_type": "code",
      "source": [
        "bpreturn = plt.boxplot(shopping_data['price'])"
      ],
      "metadata": {
        "id": "QMQI4ZZpE2Qd",
        "outputId": "4478392a-3bba-4c7f-d66d-ff77771a2a83",
        "colab": {
          "base_uri": "https://localhost:8080/",
          "height": 430
        }
      },
      "execution_count": 56,
      "outputs": [
        {
          "output_type": "display_data",
          "data": {
            "text/plain": [
              "<Figure size 640x480 with 1 Axes>"
            ],
            "image/png": "[encoded data removed]"
          },
          "metadata": {}
        }
      ]
    },
    {
      "cell_type": "code",
      "source": [
        "bpreturn['fliers'][0].get_ydata()"
      ],
      "metadata": {
        "id": "Mf3H83tfG3Q1",
        "outputId": "7b20ad2a-7eeb-4dc8-8693-880527b2ec17",
        "colab": {
          "base_uri": "https://localhost:8080/"
        }
      },
      "execution_count": 60,
      "outputs": [
        {
          "output_type": "execute_result",
          "data": {
            "text/plain": [
              "array([3000.85, 3000.85, 5250.  , ..., 3150.  , 3150.  , 4200.  ])"
            ]
          },
          "metadata": {},
          "execution_count": 60
        }
      ]
    },
    {
      "cell_type": "code",
      "source": [
        "len(bpreturn['fliers'][0].get_ydata()) #นับจุด boxplot"
      ],
      "metadata": {
        "id": "zHARbwQ7ImZ5",
        "outputId": "0939602d-3d51-4af0-e85b-cf5e1467d3e4",
        "colab": {
          "base_uri": "https://localhost:8080/"
        }
      },
      "execution_count": 80,
      "outputs": [
        {
          "output_type": "execute_result",
          "data": {
            "text/plain": [
              "5024"
            ]
          },
          "metadata": {},
          "execution_count": 80
        }
      ]
    },
    {
      "cell_type": "markdown",
      "source": [
        "# Pie Chart"
      ],
      "metadata": {
        "id": "Gpa3aBPDIwyr"
      }
    },
    {
      "cell_type": "markdown",
      "source": [
        "#### ration of male and female customer"
      ],
      "metadata": {
        "id": "TaHTQt8VI0lZ"
      }
    },
    {
      "cell_type": "code",
      "source": [
        "males = len(shopping_data[shopping_data['gender']=='Male'])\n",
        "females = len(shopping_data[shopping_data['gender']=='Female'])\n",
        "plt.pie([males,females],labels= ['Male','Female']);"
      ],
      "metadata": {
        "id": "sHNhjbP9OUst",
        "outputId": "ce3e9a75-7580-48ee-9754-5b99333400bc",
        "colab": {
          "base_uri": "https://localhost:8080/",
          "height": 406
        }
      },
      "execution_count": 98,
      "outputs": [
        {
          "output_type": "display_data",
          "data": {
            "text/plain": [
              "<Figure size 640x480 with 1 Axes>"
            ],
            "image/png": "[encoded data removed]"
          },
          "metadata": {}
        }
      ]
    },
    {
      "cell_type": "markdown",
      "source": [
        "# Bar Chart"
      ],
      "metadata": {
        "id": "4dzSPy2gLAol"
      }
    },
    {
      "cell_type": "markdown",
      "source": [
        "# Stacked"
      ],
      "metadata": {
        "id": "HWl7kpSVLLke"
      }
    },
    {
      "cell_type": "markdown",
      "source": [
        "# Grouped"
      ],
      "metadata": {
        "id": "k2z3K_ajSpkb"
      }
    },
    {
      "cell_type": "markdown",
      "source": [
        "#### เปรียบเทียบปริมาณชนิดสินค้าที่ซื้อในแต่ละ shopping mall เป็นราย shopping mall (Books - Souvenir)"
      ],
      "metadata": {
        "id": "kpu6CEO8SySk"
      }
    },
    {
      "cell_type": "code",
      "source": [],
      "metadata": {
        "id": "hap2RC9MStFU"
      },
      "execution_count": null,
      "outputs": []
    },
    {
      "cell_type": "markdown",
      "source": [
        "# Distance - Similarity"
      ],
      "metadata": {
        "id": "U-DTw8v_BvGC"
      }
    },
    {
      "cell_type": "code",
      "source": [
        "from scipy.spatial import distance_matrix"
      ],
      "metadata": {
        "id": "WKQ20SF5b4PU"
      },
      "execution_count": 115,
      "outputs": []
    },
    {
      "cell_type": "code",
      "source": [
        "from numpy import linalg as LA"
      ],
      "metadata": {
        "id": "q09sfVHGYEFQ"
      },
      "execution_count": 99,
      "outputs": []
    },
    {
      "cell_type": "code",
      "source": [
        "import numpy as np"
      ],
      "metadata": {
        "id": "PP5bK7TGYfeW"
      },
      "execution_count": 101,
      "outputs": []
    },
    {
      "cell_type": "code",
      "source": [
        "data_points = np.array([[1,2],[-1,4],[0,-3],[-3,-2]])"
      ],
      "metadata": {
        "id": "j26rk_KfYNjH"
      },
      "execution_count": 110,
      "outputs": []
    },
    {
      "cell_type": "code",
      "source": [
        "data_points"
      ],
      "metadata": {
        "id": "ykjjMz46biWM",
        "outputId": "b2f02d0b-bddf-4db8-a15f-563db0d41e29",
        "colab": {
          "base_uri": "https://localhost:8080/"
        }
      },
      "execution_count": 112,
      "outputs": [
        {
          "output_type": "execute_result",
          "data": {
            "text/plain": [
              "array([[ 1,  2],\n",
              "       [-1,  4],\n",
              "       [ 0, -3],\n",
              "       [-3, -2]])"
            ]
          },
          "metadata": {},
          "execution_count": 112
        }
      ]
    },
    {
      "cell_type": "code",
      "source": [
        "plt.scatter(data_points[:,0],data_points[:,1])\n",
        "plt.grid(True)"
      ],
      "metadata": {
        "id": "hX6A_dnAYdSZ",
        "outputId": "034a77ad-0f49-49f7-d1f2-4ce5bf39d77a",
        "colab": {
          "base_uri": "https://localhost:8080/",
          "height": 430
        }
      },
      "execution_count": 119,
      "outputs": [
        {
          "output_type": "display_data",
          "data": {
            "text/plain": [
              "<Figure size 640x480 with 1 Axes>"
            ],
            "image/png": "[encoded data removed]"
          },
          "metadata": {}
        }
      ]
    },
    {
      "cell_type": "code",
      "source": [
        "distance_matrix(data_points,data_points) # default p=2 Euclidean distance"
      ],
      "metadata": {
        "id": "L7WgF36raIIb",
        "outputId": "7a9ecc64-bb66-4ce8-d4e6-643e3335bfbb",
        "colab": {
          "base_uri": "https://localhost:8080/"
        }
      },
      "execution_count": 117,
      "outputs": [
        {
          "output_type": "execute_result",
          "data": {
            "text/plain": [
              "array([[0.        , 2.82842712, 5.09901951, 5.65685425],\n",
              "       [2.82842712, 0.        , 7.07106781, 6.32455532],\n",
              "       [5.09901951, 7.07106781, 0.        , 3.16227766],\n",
              "       [5.65685425, 6.32455532, 3.16227766, 0.        ]])"
            ]
          },
          "metadata": {},
          "execution_count": 117
        }
      ]
    },
    {
      "cell_type": "code",
      "source": [
        "distance_matrix(data_points,data_points,p=1) # p=1 City block distance"
      ],
      "metadata": {
        "id": "-H11L6szcefQ",
        "outputId": "8f7a4954-ddec-441e-8870-62c2546fbd2a",
        "colab": {
          "base_uri": "https://localhost:8080/"
        }
      },
      "execution_count": 118,
      "outputs": [
        {
          "output_type": "execute_result",
          "data": {
            "text/plain": [
              "array([[0., 4., 6., 8.],\n",
              "       [4., 0., 8., 8.],\n",
              "       [6., 8., 0., 4.],\n",
              "       [8., 8., 4., 0.]])"
            ]
          },
          "metadata": {},
          "execution_count": 118
        }
      ]
    },
    {
      "cell_type": "markdown",
      "source": [
        "# z-score"
      ],
      "metadata": {
        "id": "BslClrZyB5Rj"
      }
    },
    {
      "cell_type": "code",
      "execution_count": null,
      "metadata": {
        "id": "Em0Z4jH8Ba5v"
      },
      "outputs": [],
      "source": []
    }
  ]
}